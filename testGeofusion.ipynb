{
  "nbformat": 4,
  "nbformat_minor": 0,
  "metadata": {
    "colab": {
      "name": "testGeofusion.ipynb",
      "provenance": [],
      "collapsed_sections": [
        "KaQM2udX40TD",
        "9TVgRiZB1cUL",
        "hgYS0ndHNpDY",
        "WK9JUBu1TkdZ",
        "vmNhB_qwCedN",
        "WmX3J8K2WDj5"
      ],
      "authorship_tag": "ABX9TyN7AAPFw0poC4yvMFIyIAiR",
      "include_colab_link": true
    },
    "kernelspec": {
      "name": "python3",
      "display_name": "Python 3"
    },
    "language_info": {
      "name": "python"
    }
  },
  "cells": [
    {
      "cell_type": "markdown",
      "metadata": {
        "id": "view-in-github",
        "colab_type": "text"
      },
      "source": [
        "<a href=\"https://colab.research.google.com/github/svhenrique/preditor-faturamento/blob/main/testGeofusion.ipynb\" target=\"_parent\"><img src=\"https://colab.research.google.com/assets/colab-badge.svg\" alt=\"Open In Colab\"/></a>"
      ]
    },
    {
      "cell_type": "markdown",
      "metadata": {
        "id": "mvTFCb0J3HIc"
      },
      "source": [
        "## **Desafio Técnico Estagiário em Machine Learning** \n"
      ]
    },
    {
      "cell_type": "markdown",
      "metadata": {
        "id": "Z925dCV86fwr"
      },
      "source": [
        "* O dataset contém 23 recursos quer podem ser usados para a previsão de faturamento em novos bairros.\n",
        "* Problema de regressão para previsão de faturamento."
      ]
    },
    {
      "cell_type": "markdown",
      "metadata": {
        "id": "KaQM2udX40TD"
      },
      "source": [
        "### **Case**\n"
      ]
    },
    {
      "cell_type": "markdown",
      "metadata": {
        "id": "pjAZ69U77FNe"
      },
      "source": [
        "\n",
        "Um cliente da Geofusion que atua no setor alimentício na cidade do Rio de Janeiro gostaria de entender melhor sobre o seu público alvo. Dadas as variáveis sociodemográficas (presentes no dicionário de dados) e a variável de performance **faturamento**, realize uma análise exploratória trazendo os insights sobre o público alvo da rede e crie um modelo de regressão capaz de prever o faturamento em novos bairros, caso o nosso cliente queira realizar um projeto de expansão."
      ]
    },
    {
      "cell_type": "markdown",
      "metadata": {
        "id": "vTVfzdz147lk"
      },
      "source": [
        "### **Dicionário de dados**"
      ]
    },
    {
      "cell_type": "markdown",
      "metadata": {
        "id": "Db84e40P7IZ0"
      },
      "source": [
        "codigo: Código do bairro\n",
        "\n",
        "nome: Nome do bairro\n",
        "\n",
        "cidade: Cidade\n",
        "\n",
        "estado: Estado \n",
        "\n",
        "população: População total \n",
        "\n",
        "popAte9: População - até 9 anos \n",
        "\n",
        "popDe10a14: População - de 10 a 14 anos\n",
        "\n",
        "popDe15a19: População - de 15 a 19 anos\n",
        "\n",
        "popDe20a24: População - de 20 a 24 anos\n",
        "\n",
        "popDe25a34: População - de 25 a 34 anos\n",
        "\n",
        "popDe35a49: População - de 35 a 49 anos\n",
        "\n",
        "popDe50a59: População - de 50 a 59 anos\n",
        "\n",
        "popMaisDe60: População - 60 anos ou mais\n",
        "\n",
        "domiciliosA1: Quantidade de Domicílios de Renda A1 \n",
        "\n",
        "domiciliosA2: Quantidade de Domicílios de Renda A2\n",
        "\n",
        "domiciliosB1: Quantidade de Domicílios de Renda B1\n",
        "\n",
        "domiciliosB2: Quantidade de Domicílios de Renda B2\n",
        "\n",
        "domiciliosC1: Quantidade de Domicílios de Renda C1\n",
        "\n",
        "domiciliosC2: Quantidade de Domicílios de Renda C2\n",
        "\n",
        "domiciliosD: Quantidade de Domicílios de Renda D\n",
        "\n",
        "domiciliosE: Quantidade de Domicílios de Renda E\n",
        "\n",
        "rendaMedia: Renda Média por Domicílio\n",
        "\n",
        "faturamento: Faturamento Total no Bairro"
      ]
    },
    {
      "cell_type": "markdown",
      "metadata": {
        "id": "bxqOMISJEndn"
      },
      "source": [
        "Explicação dos tipos de Renda em domicílios: Basicamente A1 tem mais renda e E tem menos renda.\n",
        "\n",
        "Fontes:\n",
        "\n",
        "https://www.questionpro.com/blog/pt-br/pesquisa-criterio-brasil/"
      ]
    },
    {
      "cell_type": "markdown",
      "metadata": {
        "id": "QPoKfyI445Oj"
      },
      "source": [
        "## Importando bibliotecas necessárias"
      ]
    },
    {
      "cell_type": "code",
      "metadata": {
        "id": "VZFjizLGoJwN",
        "colab": {
          "base_uri": "https://localhost:8080/"
        },
        "outputId": "30b89a9b-0b81-468f-c455-5d75ca299dfd"
      },
      "source": [
        "# montando drive (para o colab)\n",
        "from google.colab import drive\n",
        "drive.mount('/content/drive/')"
      ],
      "execution_count": null,
      "outputs": [
        {
          "output_type": "stream",
          "text": [
            "Drive already mounted at /content/drive/; to attempt to forcibly remount, call drive.mount(\"/content/drive/\", force_remount=True).\n"
          ],
          "name": "stdout"
        }
      ]
    },
    {
      "cell_type": "code",
      "metadata": {
        "id": "BOUON7R4pVQ4"
      },
      "source": [
        "# importando bibliotecas necessárias\n",
        "import os\n",
        "import pandas as pd\n",
        "from matplotlib import pyplot as plt\n",
        "import numpy as np\n",
        "import seaborn as sns\n",
        "\n",
        "from sklearn.model_selection import train_test_split \n",
        "from sklearn.linear_model import LinearRegression\n",
        "from sklearn.tree import DecisionTreeRegressor\n",
        "from sklearn.ensemble import RandomForestRegressor\n",
        "from sklearn.neural_network import MLPRegressor\n",
        "\n",
        "from sklearn.model_selection import cross_val_score\n",
        "\n",
        "from sklearn.metrics import mean_absolute_error\n",
        "from sklearn.metrics import mean_squared_error"
      ],
      "execution_count": null,
      "outputs": []
    },
    {
      "cell_type": "markdown",
      "metadata": {
        "id": "jkmjthwf3D6u"
      },
      "source": [
        "## Lendo dados"
      ]
    },
    {
      "cell_type": "code",
      "metadata": {
        "id": "FSZrj2hRpYT4"
      },
      "source": [
        "# dados em pasta \n",
        "pasta = '/content/drive/My Drive/datasets/geofusion/'"
      ],
      "execution_count": null,
      "outputs": []
    },
    {
      "cell_type": "code",
      "metadata": {
        "colab": {
          "base_uri": "https://localhost:8080/"
        },
        "id": "FSPDGLglpa9b",
        "outputId": "0b92762b-12b1-45e9-bb88-1e6c9b487a0a"
      },
      "source": [
        "# lendo dados\n",
        "dados = pd.read_csv(pasta + 'DesafioEstagioMachineLearning.csv')\n",
        "dados"
      ],
      "execution_count": null,
      "outputs": [
        {
          "output_type": "execute_result",
          "data": {
            "text/html": [
              "<div>\n",
              "<style scoped>\n",
              "    .dataframe tbody tr th:only-of-type {\n",
              "        vertical-align: middle;\n",
              "    }\n",
              "\n",
              "    .dataframe tbody tr th {\n",
              "        vertical-align: top;\n",
              "    }\n",
              "\n",
              "    .dataframe thead th {\n",
              "        text-align: right;\n",
              "    }\n",
              "</style>\n",
              "<table border=\"1\" class=\"dataframe\">\n",
              "  <thead>\n",
              "    <tr style=\"text-align: right;\">\n",
              "      <th></th>\n",
              "      <th>codigo</th>\n",
              "      <th>nome</th>\n",
              "      <th>cidade</th>\n",
              "      <th>estado</th>\n",
              "      <th>população</th>\n",
              "      <th>popAte9</th>\n",
              "      <th>popDe10a14</th>\n",
              "      <th>popDe15a19</th>\n",
              "      <th>popDe20a24</th>\n",
              "      <th>popDe25a34</th>\n",
              "      <th>popDe35a49</th>\n",
              "      <th>popDe50a59</th>\n",
              "      <th>popMaisDe60</th>\n",
              "      <th>domiciliosA1</th>\n",
              "      <th>domiciliosA2</th>\n",
              "      <th>domiciliosB1</th>\n",
              "      <th>domiciliosB2</th>\n",
              "      <th>domiciliosC1</th>\n",
              "      <th>domiciliosC2</th>\n",
              "      <th>domiciliosD</th>\n",
              "      <th>domiciliosE</th>\n",
              "      <th>rendaMedia</th>\n",
              "      <th>faturamento</th>\n",
              "    </tr>\n",
              "  </thead>\n",
              "  <tbody>\n",
              "    <tr>\n",
              "      <th>0</th>\n",
              "      <td>3304557060</td>\n",
              "      <td>Abolição</td>\n",
              "      <td>Rio de Janeiro</td>\n",
              "      <td>RJ</td>\n",
              "      <td>11676</td>\n",
              "      <td>1027</td>\n",
              "      <td>483</td>\n",
              "      <td>688</td>\n",
              "      <td>800</td>\n",
              "      <td>1675</td>\n",
              "      <td>2300</td>\n",
              "      <td>1784</td>\n",
              "      <td>2919</td>\n",
              "      <td>0</td>\n",
              "      <td>145</td>\n",
              "      <td>715</td>\n",
              "      <td>1242</td>\n",
              "      <td>1093</td>\n",
              "      <td>758</td>\n",
              "      <td>92</td>\n",
              "      <td>304</td>\n",
              "      <td>2501.0</td>\n",
              "      <td>932515.0</td>\n",
              "    </tr>\n",
              "    <tr>\n",
              "      <th>1</th>\n",
              "      <td>3304557138</td>\n",
              "      <td>Acari</td>\n",
              "      <td>Rio de Janeiro</td>\n",
              "      <td>RJ</td>\n",
              "      <td>27564</td>\n",
              "      <td>5131</td>\n",
              "      <td>2188</td>\n",
              "      <td>2697</td>\n",
              "      <td>2630</td>\n",
              "      <td>4810</td>\n",
              "      <td>5308</td>\n",
              "      <td>2403</td>\n",
              "      <td>2397</td>\n",
              "      <td>0</td>\n",
              "      <td>0</td>\n",
              "      <td>82</td>\n",
              "      <td>506</td>\n",
              "      <td>2040</td>\n",
              "      <td>2490</td>\n",
              "      <td>827</td>\n",
              "      <td>2506</td>\n",
              "      <td>931.0</td>\n",
              "      <td>588833.0</td>\n",
              "    </tr>\n",
              "    <tr>\n",
              "      <th>2</th>\n",
              "      <td>3304557057</td>\n",
              "      <td>Água Santa</td>\n",
              "      <td>Rio de Janeiro</td>\n",
              "      <td>RJ</td>\n",
              "      <td>9003</td>\n",
              "      <td>883</td>\n",
              "      <td>399</td>\n",
              "      <td>597</td>\n",
              "      <td>762</td>\n",
              "      <td>1755</td>\n",
              "      <td>2076</td>\n",
              "      <td>1112</td>\n",
              "      <td>1419</td>\n",
              "      <td>0</td>\n",
              "      <td>96</td>\n",
              "      <td>404</td>\n",
              "      <td>652</td>\n",
              "      <td>644</td>\n",
              "      <td>522</td>\n",
              "      <td>77</td>\n",
              "      <td>254</td>\n",
              "      <td>2391.0</td>\n",
              "      <td>874200.0</td>\n",
              "    </tr>\n",
              "    <tr>\n",
              "      <th>3</th>\n",
              "      <td>3304557031</td>\n",
              "      <td>Alto Da Boa Vista</td>\n",
              "      <td>Rio de Janeiro</td>\n",
              "      <td>RJ</td>\n",
              "      <td>9606</td>\n",
              "      <td>1072</td>\n",
              "      <td>538</td>\n",
              "      <td>660</td>\n",
              "      <td>685</td>\n",
              "      <td>1317</td>\n",
              "      <td>2007</td>\n",
              "      <td>1341</td>\n",
              "      <td>1986</td>\n",
              "      <td>114</td>\n",
              "      <td>178</td>\n",
              "      <td>393</td>\n",
              "      <td>517</td>\n",
              "      <td>945</td>\n",
              "      <td>584</td>\n",
              "      <td>137</td>\n",
              "      <td>286</td>\n",
              "      <td>3727.0</td>\n",
              "      <td>912226.0</td>\n",
              "    </tr>\n",
              "    <tr>\n",
              "      <th>4</th>\n",
              "      <td>3304557125</td>\n",
              "      <td>Anchieta</td>\n",
              "      <td>Rio de Janeiro</td>\n",
              "      <td>RJ</td>\n",
              "      <td>57222</td>\n",
              "      <td>7677</td>\n",
              "      <td>3774</td>\n",
              "      <td>4892</td>\n",
              "      <td>4600</td>\n",
              "      <td>8660</td>\n",
              "      <td>12272</td>\n",
              "      <td>7157</td>\n",
              "      <td>8190</td>\n",
              "      <td>0</td>\n",
              "      <td>0</td>\n",
              "      <td>1089</td>\n",
              "      <td>2821</td>\n",
              "      <td>5110</td>\n",
              "      <td>5422</td>\n",
              "      <td>1073</td>\n",
              "      <td>3261</td>\n",
              "      <td>1380.0</td>\n",
              "      <td>553020.0</td>\n",
              "    </tr>\n",
              "    <tr>\n",
              "      <th>...</th>\n",
              "      <td>...</td>\n",
              "      <td>...</td>\n",
              "      <td>...</td>\n",
              "      <td>...</td>\n",
              "      <td>...</td>\n",
              "      <td>...</td>\n",
              "      <td>...</td>\n",
              "      <td>...</td>\n",
              "      <td>...</td>\n",
              "      <td>...</td>\n",
              "      <td>...</td>\n",
              "      <td>...</td>\n",
              "      <td>...</td>\n",
              "      <td>...</td>\n",
              "      <td>...</td>\n",
              "      <td>...</td>\n",
              "      <td>...</td>\n",
              "      <td>...</td>\n",
              "      <td>...</td>\n",
              "      <td>...</td>\n",
              "      <td>...</td>\n",
              "      <td>...</td>\n",
              "      <td>...</td>\n",
              "    </tr>\n",
              "    <tr>\n",
              "      <th>155</th>\n",
              "      <td>3304557062</td>\n",
              "      <td>Vila Kosmos</td>\n",
              "      <td>Rio de Janeiro</td>\n",
              "      <td>RJ</td>\n",
              "      <td>18791</td>\n",
              "      <td>1802</td>\n",
              "      <td>921</td>\n",
              "      <td>1442</td>\n",
              "      <td>1462</td>\n",
              "      <td>2500</td>\n",
              "      <td>3944</td>\n",
              "      <td>2920</td>\n",
              "      <td>3800</td>\n",
              "      <td>0</td>\n",
              "      <td>259</td>\n",
              "      <td>774</td>\n",
              "      <td>1363</td>\n",
              "      <td>1923</td>\n",
              "      <td>1379</td>\n",
              "      <td>190</td>\n",
              "      <td>405</td>\n",
              "      <td>2316.0</td>\n",
              "      <td>901446.0</td>\n",
              "    </tr>\n",
              "    <tr>\n",
              "      <th>156</th>\n",
              "      <td>3304557093</td>\n",
              "      <td>Vila Militar</td>\n",
              "      <td>Rio de Janeiro</td>\n",
              "      <td>RJ</td>\n",
              "      <td>13556</td>\n",
              "      <td>1888</td>\n",
              "      <td>787</td>\n",
              "      <td>1042</td>\n",
              "      <td>982</td>\n",
              "      <td>2542</td>\n",
              "      <td>2908</td>\n",
              "      <td>1528</td>\n",
              "      <td>1879</td>\n",
              "      <td>0</td>\n",
              "      <td>219</td>\n",
              "      <td>714</td>\n",
              "      <td>828</td>\n",
              "      <td>1051</td>\n",
              "      <td>1012</td>\n",
              "      <td>116</td>\n",
              "      <td>465</td>\n",
              "      <td>2416.0</td>\n",
              "      <td>849731.0</td>\n",
              "    </tr>\n",
              "    <tr>\n",
              "      <th>157</th>\n",
              "      <td>3304557091</td>\n",
              "      <td>Vila Valqueire</td>\n",
              "      <td>Rio de Janeiro</td>\n",
              "      <td>RJ</td>\n",
              "      <td>33190</td>\n",
              "      <td>3166</td>\n",
              "      <td>1619</td>\n",
              "      <td>2255</td>\n",
              "      <td>2326</td>\n",
              "      <td>4752</td>\n",
              "      <td>7183</td>\n",
              "      <td>4950</td>\n",
              "      <td>6939</td>\n",
              "      <td>0</td>\n",
              "      <td>906</td>\n",
              "      <td>2866</td>\n",
              "      <td>2241</td>\n",
              "      <td>2982</td>\n",
              "      <td>1200</td>\n",
              "      <td>360</td>\n",
              "      <td>772</td>\n",
              "      <td>3189.0</td>\n",
              "      <td>1127042.0</td>\n",
              "    </tr>\n",
              "    <tr>\n",
              "      <th>158</th>\n",
              "      <td>3304557065</td>\n",
              "      <td>Vista Alegre</td>\n",
              "      <td>Rio de Janeiro</td>\n",
              "      <td>RJ</td>\n",
              "      <td>8867</td>\n",
              "      <td>724</td>\n",
              "      <td>387</td>\n",
              "      <td>580</td>\n",
              "      <td>565</td>\n",
              "      <td>1205</td>\n",
              "      <td>1812</td>\n",
              "      <td>1474</td>\n",
              "      <td>2120</td>\n",
              "      <td>0</td>\n",
              "      <td>87</td>\n",
              "      <td>556</td>\n",
              "      <td>836</td>\n",
              "      <td>940</td>\n",
              "      <td>484</td>\n",
              "      <td>75</td>\n",
              "      <td>214</td>\n",
              "      <td>2418.0</td>\n",
              "      <td>921875.0</td>\n",
              "    </tr>\n",
              "    <tr>\n",
              "      <th>159</th>\n",
              "      <td>3304557110</td>\n",
              "      <td>Zumbi</td>\n",
              "      <td>Rio de Janeiro</td>\n",
              "      <td>RJ</td>\n",
              "      <td>2072</td>\n",
              "      <td>175</td>\n",
              "      <td>74</td>\n",
              "      <td>120</td>\n",
              "      <td>121</td>\n",
              "      <td>318</td>\n",
              "      <td>417</td>\n",
              "      <td>314</td>\n",
              "      <td>533</td>\n",
              "      <td>0</td>\n",
              "      <td>89</td>\n",
              "      <td>234</td>\n",
              "      <td>177</td>\n",
              "      <td>147</td>\n",
              "      <td>72</td>\n",
              "      <td>10</td>\n",
              "      <td>47</td>\n",
              "      <td>3791.0</td>\n",
              "      <td>919451.0</td>\n",
              "    </tr>\n",
              "  </tbody>\n",
              "</table>\n",
              "<p>160 rows × 23 columns</p>\n",
              "</div>"
            ],
            "text/plain": [
              "         codigo               nome  ... rendaMedia faturamento\n",
              "0    3304557060           Abolição  ...     2501.0    932515.0\n",
              "1    3304557138              Acari  ...      931.0    588833.0\n",
              "2    3304557057         Água Santa  ...     2391.0    874200.0\n",
              "3    3304557031  Alto Da Boa Vista  ...     3727.0    912226.0\n",
              "4    3304557125           Anchieta  ...     1380.0    553020.0\n",
              "..          ...                ...  ...        ...         ...\n",
              "155  3304557062        Vila Kosmos  ...     2316.0    901446.0\n",
              "156  3304557093       Vila Militar  ...     2416.0    849731.0\n",
              "157  3304557091     Vila Valqueire  ...     3189.0   1127042.0\n",
              "158  3304557065       Vista Alegre  ...     2418.0    921875.0\n",
              "159  3304557110              Zumbi  ...     3791.0    919451.0\n",
              "\n",
              "[160 rows x 23 columns]"
            ]
          },
          "metadata": {
            "tags": []
          },
          "execution_count": 40
        }
      ]
    },
    {
      "cell_type": "markdown",
      "metadata": {
        "id": "9TVgRiZB1cUL"
      },
      "source": [
        "## Limpeza e organização dos dados"
      ]
    },
    {
      "cell_type": "markdown",
      "metadata": {
        "id": "Zli1ALI4QJmv"
      },
      "source": [
        "Essa parte é caracterizada pela identificação e tratamento de dados nan (dados faltantes) ou corruptos e pela remoção de features que são, perceptivelmente, inúteis (podendo até mesmo dificultar o aprendizado) para os algoritmos de Machine Learning."
      ]
    },
    {
      "cell_type": "code",
      "metadata": {
        "colab": {
          "base_uri": "https://localhost:8080/"
        },
        "id": "MOOkYtsZ1LbV",
        "outputId": "5aab3e46-6067-4eeb-924f-9f5d3bde1a6b"
      },
      "source": [
        "# mostrando se existem valores nan nos dados\n",
        "dados.isna().any()"
      ],
      "execution_count": null,
      "outputs": [
        {
          "output_type": "execute_result",
          "data": {
            "text/plain": [
              "codigo          False\n",
              "nome            False\n",
              "cidade          False\n",
              "estado          False\n",
              "população       False\n",
              "popAte9         False\n",
              "popDe10a14      False\n",
              "popDe15a19      False\n",
              "popDe20a24      False\n",
              "popDe25a34      False\n",
              "popDe35a49      False\n",
              "popDe50a59      False\n",
              "popMaisDe60     False\n",
              "domiciliosA1    False\n",
              "domiciliosA2    False\n",
              "domiciliosB1    False\n",
              "domiciliosB2    False\n",
              "domiciliosC1    False\n",
              "domiciliosC2    False\n",
              "domiciliosD     False\n",
              "domiciliosE     False\n",
              "rendaMedia       True\n",
              "faturamento     False\n",
              "dtype: bool"
            ]
          },
          "metadata": {
            "tags": []
          },
          "execution_count": 42
        }
      ]
    },
    {
      "cell_type": "markdown",
      "metadata": {
        "id": "QLU56JsA1zOt"
      },
      "source": [
        "A feature \"rendaMedia\" possue valores nan e deve ser tratada."
      ]
    },
    {
      "cell_type": "code",
      "metadata": {
        "colab": {
          "base_uri": "https://localhost:8080/"
        },
        "id": "5bNTMgNT1gg_",
        "outputId": "cc739087-9ae3-4b8a-eca8-1bf07b10d688"
      },
      "source": [
        "# mostrando quais instâncias de rendaMedia possui valores nan\n",
        "\n",
        "dados['rendaMedia'][dados['rendaMedia'].isna() == True]"
      ],
      "execution_count": null,
      "outputs": [
        {
          "output_type": "execute_result",
          "data": {
            "text/plain": [
              "6     NaN\n",
              "26    NaN\n",
              "52    NaN\n",
              "71    NaN\n",
              "89    NaN\n",
              "122   NaN\n",
              "Name: rendaMedia, dtype: float64"
            ]
          },
          "metadata": {
            "tags": []
          },
          "execution_count": 43
        }
      ]
    },
    {
      "cell_type": "markdown",
      "metadata": {
        "id": "YJwtBbES24Jt"
      },
      "source": [
        "Como existem apenas 6 instâncias com valoers nan, elas serão removidas."
      ]
    },
    {
      "cell_type": "code",
      "metadata": {
        "colab": {
          "base_uri": "https://localhost:8080/"
        },
        "id": "9rdKROm_2AEq",
        "outputId": "b28bbdff-0e3e-48ed-e797-9a3aa2397bf2"
      },
      "source": [
        "# mostrando instâncias que estão com valores nan\n",
        "\n",
        "dados = dados.drop(dados['rendaMedia'][dados['rendaMedia'].isna() == True].index)\n",
        "dados.isna().any()"
      ],
      "execution_count": null,
      "outputs": [
        {
          "output_type": "execute_result",
          "data": {
            "text/plain": [
              "codigo          False\n",
              "nome            False\n",
              "cidade          False\n",
              "estado          False\n",
              "população       False\n",
              "popAte9         False\n",
              "popDe10a14      False\n",
              "popDe15a19      False\n",
              "popDe20a24      False\n",
              "popDe25a34      False\n",
              "popDe35a49      False\n",
              "popDe50a59      False\n",
              "popMaisDe60     False\n",
              "domiciliosA1    False\n",
              "domiciliosA2    False\n",
              "domiciliosB1    False\n",
              "domiciliosB2    False\n",
              "domiciliosC1    False\n",
              "domiciliosC2    False\n",
              "domiciliosD     False\n",
              "domiciliosE     False\n",
              "rendaMedia      False\n",
              "faturamento     False\n",
              "dtype: bool"
            ]
          },
          "metadata": {
            "tags": []
          },
          "execution_count": 44
        }
      ]
    },
    {
      "cell_type": "code",
      "metadata": {
        "colab": {
          "base_uri": "https://localhost:8080/"
        },
        "id": "zAq3cOdDQ_an",
        "outputId": "dbba0b9c-bebf-48e9-f210-90ee6b99b6f0"
      },
      "source": [
        "# mostrando os valores possíveis em estado\n",
        "dados.estado.unique()"
      ],
      "execution_count": null,
      "outputs": [
        {
          "output_type": "execute_result",
          "data": {
            "text/plain": [
              "array(['RJ'], dtype=object)"
            ]
          },
          "metadata": {
            "tags": []
          },
          "execution_count": 45
        }
      ]
    },
    {
      "cell_type": "code",
      "metadata": {
        "colab": {
          "base_uri": "https://localhost:8080/"
        },
        "id": "kfIMSxR-RGpv",
        "outputId": "8934b7da-7faa-4b94-87e9-3d11504de35a"
      },
      "source": [
        "# mostrando os valores possíveis em cidade\n",
        "dados.cidade.unique()"
      ],
      "execution_count": null,
      "outputs": [
        {
          "output_type": "execute_result",
          "data": {
            "text/plain": [
              "array(['Rio de Janeiro'], dtype=object)"
            ]
          },
          "metadata": {
            "tags": []
          },
          "execution_count": 46
        }
      ]
    },
    {
      "cell_type": "markdown",
      "metadata": {
        "id": "hSrhXOqsROGI"
      },
      "source": [
        "Como as features estado e cidade assumem um único valor, elas não precisarão de análise de dados e não servirão para os algoritmos de Machine Learning. Portanto, as features cidade e estado serão removidas."
      ]
    },
    {
      "cell_type": "code",
      "metadata": {
        "colab": {
          "base_uri": "https://localhost:8080/",
          "height": 278
        },
        "id": "IBHhb9jmRlHQ",
        "outputId": "70662c14-f990-4df8-9ec4-bed7c8f54b8e"
      },
      "source": [
        "# removendo colunas cidade e estado\n",
        "dados = dados.drop(columns=['cidade','estado'])\n",
        "dados.head()"
      ],
      "execution_count": null,
      "outputs": [
        {
          "output_type": "execute_result",
          "data": {
            "text/html": [
              "<div>\n",
              "<style scoped>\n",
              "    .dataframe tbody tr th:only-of-type {\n",
              "        vertical-align: middle;\n",
              "    }\n",
              "\n",
              "    .dataframe tbody tr th {\n",
              "        vertical-align: top;\n",
              "    }\n",
              "\n",
              "    .dataframe thead th {\n",
              "        text-align: right;\n",
              "    }\n",
              "</style>\n",
              "<table border=\"1\" class=\"dataframe\">\n",
              "  <thead>\n",
              "    <tr style=\"text-align: right;\">\n",
              "      <th></th>\n",
              "      <th>codigo</th>\n",
              "      <th>nome</th>\n",
              "      <th>população</th>\n",
              "      <th>popAte9</th>\n",
              "      <th>popDe10a14</th>\n",
              "      <th>popDe15a19</th>\n",
              "      <th>popDe20a24</th>\n",
              "      <th>popDe25a34</th>\n",
              "      <th>popDe35a49</th>\n",
              "      <th>popDe50a59</th>\n",
              "      <th>popMaisDe60</th>\n",
              "      <th>domiciliosA1</th>\n",
              "      <th>domiciliosA2</th>\n",
              "      <th>domiciliosB1</th>\n",
              "      <th>domiciliosB2</th>\n",
              "      <th>domiciliosC1</th>\n",
              "      <th>domiciliosC2</th>\n",
              "      <th>domiciliosD</th>\n",
              "      <th>domiciliosE</th>\n",
              "      <th>rendaMedia</th>\n",
              "      <th>faturamento</th>\n",
              "    </tr>\n",
              "  </thead>\n",
              "  <tbody>\n",
              "    <tr>\n",
              "      <th>0</th>\n",
              "      <td>3304557060</td>\n",
              "      <td>Abolição</td>\n",
              "      <td>11676</td>\n",
              "      <td>1027</td>\n",
              "      <td>483</td>\n",
              "      <td>688</td>\n",
              "      <td>800</td>\n",
              "      <td>1675</td>\n",
              "      <td>2300</td>\n",
              "      <td>1784</td>\n",
              "      <td>2919</td>\n",
              "      <td>0</td>\n",
              "      <td>145</td>\n",
              "      <td>715</td>\n",
              "      <td>1242</td>\n",
              "      <td>1093</td>\n",
              "      <td>758</td>\n",
              "      <td>92</td>\n",
              "      <td>304</td>\n",
              "      <td>2501.0</td>\n",
              "      <td>932515.0</td>\n",
              "    </tr>\n",
              "    <tr>\n",
              "      <th>1</th>\n",
              "      <td>3304557138</td>\n",
              "      <td>Acari</td>\n",
              "      <td>27564</td>\n",
              "      <td>5131</td>\n",
              "      <td>2188</td>\n",
              "      <td>2697</td>\n",
              "      <td>2630</td>\n",
              "      <td>4810</td>\n",
              "      <td>5308</td>\n",
              "      <td>2403</td>\n",
              "      <td>2397</td>\n",
              "      <td>0</td>\n",
              "      <td>0</td>\n",
              "      <td>82</td>\n",
              "      <td>506</td>\n",
              "      <td>2040</td>\n",
              "      <td>2490</td>\n",
              "      <td>827</td>\n",
              "      <td>2506</td>\n",
              "      <td>931.0</td>\n",
              "      <td>588833.0</td>\n",
              "    </tr>\n",
              "    <tr>\n",
              "      <th>2</th>\n",
              "      <td>3304557057</td>\n",
              "      <td>Água Santa</td>\n",
              "      <td>9003</td>\n",
              "      <td>883</td>\n",
              "      <td>399</td>\n",
              "      <td>597</td>\n",
              "      <td>762</td>\n",
              "      <td>1755</td>\n",
              "      <td>2076</td>\n",
              "      <td>1112</td>\n",
              "      <td>1419</td>\n",
              "      <td>0</td>\n",
              "      <td>96</td>\n",
              "      <td>404</td>\n",
              "      <td>652</td>\n",
              "      <td>644</td>\n",
              "      <td>522</td>\n",
              "      <td>77</td>\n",
              "      <td>254</td>\n",
              "      <td>2391.0</td>\n",
              "      <td>874200.0</td>\n",
              "    </tr>\n",
              "    <tr>\n",
              "      <th>3</th>\n",
              "      <td>3304557031</td>\n",
              "      <td>Alto Da Boa Vista</td>\n",
              "      <td>9606</td>\n",
              "      <td>1072</td>\n",
              "      <td>538</td>\n",
              "      <td>660</td>\n",
              "      <td>685</td>\n",
              "      <td>1317</td>\n",
              "      <td>2007</td>\n",
              "      <td>1341</td>\n",
              "      <td>1986</td>\n",
              "      <td>114</td>\n",
              "      <td>178</td>\n",
              "      <td>393</td>\n",
              "      <td>517</td>\n",
              "      <td>945</td>\n",
              "      <td>584</td>\n",
              "      <td>137</td>\n",
              "      <td>286</td>\n",
              "      <td>3727.0</td>\n",
              "      <td>912226.0</td>\n",
              "    </tr>\n",
              "    <tr>\n",
              "      <th>4</th>\n",
              "      <td>3304557125</td>\n",
              "      <td>Anchieta</td>\n",
              "      <td>57222</td>\n",
              "      <td>7677</td>\n",
              "      <td>3774</td>\n",
              "      <td>4892</td>\n",
              "      <td>4600</td>\n",
              "      <td>8660</td>\n",
              "      <td>12272</td>\n",
              "      <td>7157</td>\n",
              "      <td>8190</td>\n",
              "      <td>0</td>\n",
              "      <td>0</td>\n",
              "      <td>1089</td>\n",
              "      <td>2821</td>\n",
              "      <td>5110</td>\n",
              "      <td>5422</td>\n",
              "      <td>1073</td>\n",
              "      <td>3261</td>\n",
              "      <td>1380.0</td>\n",
              "      <td>553020.0</td>\n",
              "    </tr>\n",
              "  </tbody>\n",
              "</table>\n",
              "</div>"
            ],
            "text/plain": [
              "       codigo               nome  ...  rendaMedia  faturamento\n",
              "0  3304557060           Abolição  ...      2501.0     932515.0\n",
              "1  3304557138              Acari  ...       931.0     588833.0\n",
              "2  3304557057         Água Santa  ...      2391.0     874200.0\n",
              "3  3304557031  Alto Da Boa Vista  ...      3727.0     912226.0\n",
              "4  3304557125           Anchieta  ...      1380.0     553020.0\n",
              "\n",
              "[5 rows x 21 columns]"
            ]
          },
          "metadata": {
            "tags": []
          },
          "execution_count": 47
        }
      ]
    },
    {
      "cell_type": "markdown",
      "metadata": {
        "id": "LgiiZS44SZ3h"
      },
      "source": [
        "As features codigo e nome, apesar de serem úteis para a análise de dados, tendo em vista os seus vários valores e portanto a possibilidade de investigação sobre seus padrões e afins, elas não serão úteis para a criação dos modelos de Machine Learning e portante serão removidas na criação dos modelos.\n",
        "\n",
        "As features codigo e nome não são úteis para os algoritmos de Machine Learning pois elas representam a indentificação dos bairros, sendo que o importante são as características da localidade (como a população, renda média, etc)."
      ]
    },
    {
      "cell_type": "markdown",
      "metadata": {
        "id": "evuaZ7I8-8M_"
      },
      "source": [
        "## Analisando dados"
      ]
    },
    {
      "cell_type": "markdown",
      "metadata": {
        "id": "plhGTWi9vzvA"
      },
      "source": [
        "Essa parte é exclusiva para a ánalise dos dados. A análise de dados é caracterizada pela descoberta de informações como padrões, comportamento incomum em features, problemas nos dados (como valores nan ou dados incorretos), comportamentos que só são entendíveis com pesquisa sobre o objeto real representado pelos dados, etc.\n",
        "\n",
        "Todas esssas coisas podem afetar o modelo de previsão que será construído e portanto devem ser analisadas e moldadas com cautela."
      ]
    },
    {
      "cell_type": "markdown",
      "metadata": {
        "id": "tlo98aKJCKqm"
      },
      "source": [
        "### Análise preliminar dos dados"
      ]
    },
    {
      "cell_type": "code",
      "metadata": {
        "colab": {
          "base_uri": "https://localhost:8080/",
          "height": 320
        },
        "id": "ok7Zydbw_xFk",
        "outputId": "dafc5995-48f8-411f-d1d0-a2f9974787b4"
      },
      "source": [
        "# vendo análise geral dos dados\n",
        "dados.describe()"
      ],
      "execution_count": null,
      "outputs": [
        {
          "output_type": "execute_result",
          "data": {
            "text/html": [
              "<div>\n",
              "<style scoped>\n",
              "    .dataframe tbody tr th:only-of-type {\n",
              "        vertical-align: middle;\n",
              "    }\n",
              "\n",
              "    .dataframe tbody tr th {\n",
              "        vertical-align: top;\n",
              "    }\n",
              "\n",
              "    .dataframe thead th {\n",
              "        text-align: right;\n",
              "    }\n",
              "</style>\n",
              "<table border=\"1\" class=\"dataframe\">\n",
              "  <thead>\n",
              "    <tr style=\"text-align: right;\">\n",
              "      <th></th>\n",
              "      <th>codigo</th>\n",
              "      <th>população</th>\n",
              "      <th>popAte9</th>\n",
              "      <th>popDe10a14</th>\n",
              "      <th>popDe15a19</th>\n",
              "      <th>popDe20a24</th>\n",
              "      <th>popDe25a34</th>\n",
              "      <th>popDe35a49</th>\n",
              "      <th>popDe50a59</th>\n",
              "      <th>popMaisDe60</th>\n",
              "      <th>domiciliosA1</th>\n",
              "      <th>domiciliosA2</th>\n",
              "      <th>domiciliosB1</th>\n",
              "      <th>domiciliosB2</th>\n",
              "      <th>domiciliosC1</th>\n",
              "      <th>domiciliosC2</th>\n",
              "      <th>domiciliosD</th>\n",
              "      <th>domiciliosE</th>\n",
              "      <th>rendaMedia</th>\n",
              "      <th>faturamento</th>\n",
              "    </tr>\n",
              "  </thead>\n",
              "  <tbody>\n",
              "    <tr>\n",
              "      <th>count</th>\n",
              "      <td>1.540000e+02</td>\n",
              "      <td>154.000000</td>\n",
              "      <td>154.000000</td>\n",
              "      <td>154.000000</td>\n",
              "      <td>154.000000</td>\n",
              "      <td>154.000000</td>\n",
              "      <td>154.000000</td>\n",
              "      <td>154.000000</td>\n",
              "      <td>154.000000</td>\n",
              "      <td>154.000000</td>\n",
              "      <td>154.000000</td>\n",
              "      <td>154.000000</td>\n",
              "      <td>154.000000</td>\n",
              "      <td>154.000000</td>\n",
              "      <td>154.000000</td>\n",
              "      <td>154.000000</td>\n",
              "      <td>154.000000</td>\n",
              "      <td>154.000000</td>\n",
              "      <td>154.000000</td>\n",
              "      <td>1.540000e+02</td>\n",
              "    </tr>\n",
              "    <tr>\n",
              "      <th>mean</th>\n",
              "      <td>3.304557e+09</td>\n",
              "      <td>43077.435065</td>\n",
              "      <td>5403.279221</td>\n",
              "      <td>2518.837662</td>\n",
              "      <td>3311.116883</td>\n",
              "      <td>3386.681818</td>\n",
              "      <td>6650.331169</td>\n",
              "      <td>8901.909091</td>\n",
              "      <td>5374.831169</td>\n",
              "      <td>7530.448052</td>\n",
              "      <td>391.974026</td>\n",
              "      <td>596.623377</td>\n",
              "      <td>1856.525974</td>\n",
              "      <td>2395.954545</td>\n",
              "      <td>3586.155844</td>\n",
              "      <td>3072.181818</td>\n",
              "      <td>577.058442</td>\n",
              "      <td>1856.772727</td>\n",
              "      <td>3608.071429</td>\n",
              "      <td>8.701803e+05</td>\n",
              "    </tr>\n",
              "    <tr>\n",
              "      <th>std</th>\n",
              "      <td>4.596755e+01</td>\n",
              "      <td>65336.035109</td>\n",
              "      <td>11008.972231</td>\n",
              "      <td>5037.002622</td>\n",
              "      <td>5851.900968</td>\n",
              "      <td>5698.898125</td>\n",
              "      <td>9196.873495</td>\n",
              "      <td>11710.858917</td>\n",
              "      <td>8118.995209</td>\n",
              "      <td>10425.899252</td>\n",
              "      <td>1429.321101</td>\n",
              "      <td>1552.853995</td>\n",
              "      <td>3004.463147</td>\n",
              "      <td>2817.055628</td>\n",
              "      <td>4391.463785</td>\n",
              "      <td>4065.856812</td>\n",
              "      <td>837.320073</td>\n",
              "      <td>2327.010887</td>\n",
              "      <td>6091.865305</td>\n",
              "      <td>4.430037e+05</td>\n",
              "    </tr>\n",
              "    <tr>\n",
              "      <th>min</th>\n",
              "      <td>3.304557e+09</td>\n",
              "      <td>173.000000</td>\n",
              "      <td>33.000000</td>\n",
              "      <td>13.000000</td>\n",
              "      <td>22.000000</td>\n",
              "      <td>17.000000</td>\n",
              "      <td>28.000000</td>\n",
              "      <td>38.000000</td>\n",
              "      <td>10.000000</td>\n",
              "      <td>12.000000</td>\n",
              "      <td>0.000000</td>\n",
              "      <td>0.000000</td>\n",
              "      <td>0.000000</td>\n",
              "      <td>0.000000</td>\n",
              "      <td>5.000000</td>\n",
              "      <td>3.000000</td>\n",
              "      <td>0.000000</td>\n",
              "      <td>2.000000</td>\n",
              "      <td>654.000000</td>\n",
              "      <td>2.465100e+04</td>\n",
              "    </tr>\n",
              "    <tr>\n",
              "      <th>25%</th>\n",
              "      <td>3.304557e+09</td>\n",
              "      <td>13443.250000</td>\n",
              "      <td>1512.250000</td>\n",
              "      <td>678.250000</td>\n",
              "      <td>945.000000</td>\n",
              "      <td>988.500000</td>\n",
              "      <td>2151.500000</td>\n",
              "      <td>2910.250000</td>\n",
              "      <td>1630.750000</td>\n",
              "      <td>2114.750000</td>\n",
              "      <td>0.000000</td>\n",
              "      <td>0.000000</td>\n",
              "      <td>393.000000</td>\n",
              "      <td>728.000000</td>\n",
              "      <td>1080.250000</td>\n",
              "      <td>774.750000</td>\n",
              "      <td>117.250000</td>\n",
              "      <td>430.500000</td>\n",
              "      <td>1486.000000</td>\n",
              "      <td>7.051840e+05</td>\n",
              "    </tr>\n",
              "    <tr>\n",
              "      <th>50%</th>\n",
              "      <td>3.304557e+09</td>\n",
              "      <td>26567.000000</td>\n",
              "      <td>3150.000000</td>\n",
              "      <td>1450.500000</td>\n",
              "      <td>2034.000000</td>\n",
              "      <td>2183.500000</td>\n",
              "      <td>4288.500000</td>\n",
              "      <td>5675.000000</td>\n",
              "      <td>3337.500000</td>\n",
              "      <td>4536.500000</td>\n",
              "      <td>0.000000</td>\n",
              "      <td>104.000000</td>\n",
              "      <td>833.500000</td>\n",
              "      <td>1497.000000</td>\n",
              "      <td>2458.000000</td>\n",
              "      <td>1883.500000</td>\n",
              "      <td>330.000000</td>\n",
              "      <td>1051.500000</td>\n",
              "      <td>1915.500000</td>\n",
              "      <td>8.220250e+05</td>\n",
              "    </tr>\n",
              "    <tr>\n",
              "      <th>75%</th>\n",
              "      <td>3.304557e+09</td>\n",
              "      <td>46557.500000</td>\n",
              "      <td>5650.750000</td>\n",
              "      <td>2648.500000</td>\n",
              "      <td>3450.250000</td>\n",
              "      <td>3435.750000</td>\n",
              "      <td>7143.500000</td>\n",
              "      <td>9596.250000</td>\n",
              "      <td>6333.750000</td>\n",
              "      <td>9282.000000</td>\n",
              "      <td>0.000000</td>\n",
              "      <td>351.750000</td>\n",
              "      <td>1909.000000</td>\n",
              "      <td>3079.250000</td>\n",
              "      <td>4261.000000</td>\n",
              "      <td>3627.250000</td>\n",
              "      <td>696.000000</td>\n",
              "      <td>2267.250000</td>\n",
              "      <td>2954.500000</td>\n",
              "      <td>9.325952e+05</td>\n",
              "    </tr>\n",
              "    <tr>\n",
              "      <th>max</th>\n",
              "      <td>3.304557e+09</td>\n",
              "      <td>667603.000000</td>\n",
              "      <td>122578.000000</td>\n",
              "      <td>55935.000000</td>\n",
              "      <td>62342.000000</td>\n",
              "      <td>60567.000000</td>\n",
              "      <td>86116.000000</td>\n",
              "      <td>105316.000000</td>\n",
              "      <td>83341.000000</td>\n",
              "      <td>91408.000000</td>\n",
              "      <td>13408.000000</td>\n",
              "      <td>11668.000000</td>\n",
              "      <td>19350.000000</td>\n",
              "      <td>21237.000000</td>\n",
              "      <td>33111.000000</td>\n",
              "      <td>25779.000000</td>\n",
              "      <td>4956.000000</td>\n",
              "      <td>14833.000000</td>\n",
              "      <td>63887.000000</td>\n",
              "      <td>2.915612e+06</td>\n",
              "    </tr>\n",
              "  </tbody>\n",
              "</table>\n",
              "</div>"
            ],
            "text/plain": [
              "             codigo      população  ...    rendaMedia   faturamento\n",
              "count  1.540000e+02     154.000000  ...    154.000000  1.540000e+02\n",
              "mean   3.304557e+09   43077.435065  ...   3608.071429  8.701803e+05\n",
              "std    4.596755e+01   65336.035109  ...   6091.865305  4.430037e+05\n",
              "min    3.304557e+09     173.000000  ...    654.000000  2.465100e+04\n",
              "25%    3.304557e+09   13443.250000  ...   1486.000000  7.051840e+05\n",
              "50%    3.304557e+09   26567.000000  ...   1915.500000  8.220250e+05\n",
              "75%    3.304557e+09   46557.500000  ...   2954.500000  9.325952e+05\n",
              "max    3.304557e+09  667603.000000  ...  63887.000000  2.915612e+06\n",
              "\n",
              "[8 rows x 20 columns]"
            ]
          },
          "metadata": {
            "tags": []
          },
          "execution_count": 48
        }
      ]
    },
    {
      "cell_type": "code",
      "metadata": {
        "colab": {
          "base_uri": "https://localhost:8080/",
          "height": 295
        },
        "id": "w2-2E6Sq-9uP",
        "outputId": "5cc2abae-21b8-4a88-fbdc-3b50557455d8"
      },
      "source": [
        "# plotando ocorrência da população\n",
        "plt.hist(dados.população)\n",
        "plt.xlabel('População')\n",
        "plt.ylabel('Quantidade')\n",
        "plt.title('Ocorrêncoa População')\n",
        "plt.grid(True)\n",
        "plt.show()"
      ],
      "execution_count": null,
      "outputs": [
        {
          "output_type": "display_data",
          "data": {
            "image/png": "[encoded data removed]",
            "text/plain": [
              "<Figure size 432x288 with 1 Axes>"
            ]
          },
          "metadata": {
            "tags": [],
            "needs_background": "light"
          }
        }
      ]
    },
    {
      "cell_type": "code",
      "metadata": {
        "colab": {
          "base_uri": "https://localhost:8080/",
          "height": 296
        },
        "id": "0kOkrMWv_lDg",
        "outputId": "18bb9f98-2024-4894-9f53-f910737d1d26"
      },
      "source": [
        "# plotando a quantidade de pessoas em população por bairro\n",
        "plt.plot(dados.população)\n",
        "plt.xlabel('Bairros (por instância)')\n",
        "plt.ylabel('Quantidade')\n",
        "plt.title('Quantidade População')\n",
        "plt.show()"
      ],
      "execution_count": null,
      "outputs": [
        {
          "output_type": "display_data",
          "data": {
            "image/png": "[encoded data removed]",
            "text/plain": [
              "<Figure size 432x288 with 1 Axes>"
            ]
          },
          "metadata": {
            "tags": [],
            "needs_background": "light"
          }
        }
      ]
    },
    {
      "cell_type": "markdown",
      "metadata": {
        "id": "9ZsfQ30jOnBV"
      },
      "source": [
        "Com o gráfico anterior é possível concluir que existe um bairro, ou bairros, que possuem bem mais pessoas que os outros bairros no dataframe."
      ]
    },
    {
      "cell_type": "code",
      "metadata": {
        "colab": {
          "base_uri": "https://localhost:8080/",
          "height": 269
        },
        "id": "Obk3EBN7AzfS",
        "outputId": "1830d3b4-0a25-4fb2-94d3-5b54303fd4be"
      },
      "source": [
        "# boxplot da feature população\n",
        "plt.boxplot(dados['população'], labels=['população'])\n",
        "plt.ylabel('Quantidade')\n",
        "plt.show()"
      ],
      "execution_count": null,
      "outputs": [
        {
          "output_type": "display_data",
          "data": {
            "image/png": "[encoded data removed]",
            "text/plain": [
              "<Figure size 432x288 with 1 Axes>"
            ]
          },
          "metadata": {
            "tags": [],
            "needs_background": "light"
          }
        }
      ]
    },
    {
      "cell_type": "markdown",
      "metadata": {
        "id": "j4KAz5kOAgSQ"
      },
      "source": [
        "É possível observar com os gráficos anteriores que a coluna \"população\" possui alguns outliers. \n",
        "\n",
        "Outliers podem atrapalhar o aprendizado dos modelos de Machine Learning, por isso, geralmente, é recomendado usar estratégias para o tratamento de outliers."
      ]
    },
    {
      "cell_type": "code",
      "metadata": {
        "colab": {
          "base_uri": "https://localhost:8080/",
          "height": 567
        },
        "id": "kaGzElE4CUvd",
        "outputId": "4ab65cf4-f5d5-42eb-ef36-bcd538ec7d42"
      },
      "source": [
        "# boxplot comparando as idades de população\n",
        "\n",
        "# É possível comparar todos juntos pois eles representam a mesma \"ideia\" e tem a escala parecida\n",
        "# isso facilita a vizualização dos dados.\n",
        "\n",
        "labels = ['popAte9', 'popDe10a14', 'popDe15a19', 'popDe20a24', 'popDe25a34', 'popDe35a49', 'popDe50a59', 'popMaisDe60']\n",
        "plt.figure(figsize=(12.5,9)) \n",
        "plt.ticklabel_format(useOffset=False, style='plain')\n",
        "plt.boxplot([dados['popAte9'], dados['popDe10a14'], dados['popDe15a19'], dados['popDe20a24'], \n",
        "            dados['popDe25a34'], dados['popDe35a49'], dados['popDe50a59'], dados['popMaisDe60']], labels=labels)\n",
        "plt.title('Comparação de população por idade')\n",
        "plt.ylabel('Quantidade de pessoas')\n",
        "plt.xlabel('classes')\n",
        "plt.show()\n",
        "\n",
        "del labels # removendo variável labels para não atrapalhar no futuro"
      ],
      "execution_count": null,
      "outputs": [
        {
          "output_type": "display_data",
          "data": {
            "image/png": "[encoded data removed]",
            "text/plain": [
              "<Figure size 900x648 with 1 Axes>"
            ]
          },
          "metadata": {
            "tags": [],
            "needs_background": "light"
          }
        }
      ]
    },
    {
      "cell_type": "markdown",
      "metadata": {
        "id": "l78Bnx8NS4xH"
      },
      "source": [
        "Todas as features que representam as idades das diversas populações estão com outliers, pra isso penso nas seguintes hipoteses:\n",
        "\n",
        "\n",
        "\n",
        "*   Existe um bairro com bem mais gente do que os outros bairros (pode ser caracterizado pelo outlier identificado na feature de população anteriormente), aumentando o valor das features de idade e criando os outliers.\n",
        "*   Bairros com maior concentração de pessoas de certa idade, por exemplo, algum bairro com mais gente de 50 a 59 anos. Logo, vários bairros criam vários outliers para as diversas features de idade.\n",
        "\n"
      ]
    },
    {
      "cell_type": "code",
      "metadata": {
        "id": "fTG9vW2v_e1b",
        "colab": {
          "base_uri": "https://localhost:8080/",
          "height": 537
        },
        "outputId": "155311e1-d641-465a-cbc5-80baf57d288d"
      },
      "source": [
        "# plotando comparação dos atributos de idade com o atributo população\n",
        "\n",
        "colunas = ['popAte9', 'popDe10a14', 'popDe15a19', 'popDe20a24', 'popDe25a34', 'popDe35a49', 'popDe50a59', 'popMaisDe60']\n",
        "\n",
        "plt.figure(figsize=(12.5,9)) \n",
        "for coluna in colunas:\n",
        "  plt.scatter(dados['população'],dados[coluna],label=coluna, linewidths=2)\n",
        "plt.legend()\n",
        "plt.show()"
      ],
      "execution_count": null,
      "outputs": [
        {
          "output_type": "display_data",
          "data": {
            "image/png": "[encoded data removed]",
            "text/plain": [
              "<Figure size 900x648 with 1 Axes>"
            ]
          },
          "metadata": {
            "tags": [],
            "needs_background": "light"
          }
        }
      ]
    },
    {
      "cell_type": "code",
      "metadata": {
        "colab": {
          "base_uri": "https://localhost:8080/"
        },
        "id": "nkvkE32KJRSV",
        "outputId": "76e24944-2511-4cf4-f23d-582bf7267240"
      },
      "source": [
        "# mostrando índice de correlação entre a feature de população e as features de idade da população\n",
        "dados.corr()['população'].loc[['popAte9', 'popDe10a14', 'popDe15a19', 'popDe20a24', 'popDe25a34', 'popDe35a49', 'popDe50a59', 'popMaisDe60']]"
      ],
      "execution_count": null,
      "outputs": [
        {
          "output_type": "execute_result",
          "data": {
            "text/plain": [
              "popAte9        0.970970\n",
              "popDe10a14     0.972225\n",
              "popDe15a19     0.985341\n",
              "popDe20a24     0.990407\n",
              "popDe25a34     0.989337\n",
              "popDe35a49     0.986662\n",
              "popDe50a59     0.991253\n",
              "popMaisDe60    0.924405\n",
              "Name: população, dtype: float64"
            ]
          },
          "metadata": {
            "tags": []
          },
          "execution_count": 54
        }
      ]
    },
    {
      "cell_type": "markdown",
      "metadata": {
        "id": "CD2OmxqiLim9"
      },
      "source": [
        "Com o índice e gráfico de correlação anteriores provavelmente a hipotese 1 tem um peso maior (não desconsiderando a hipotese 2), pois, como eles tem uma correlação positiva forte, quanto maior a população mais as features de idade irão aumentar. Logo, provavelmente os outliers que existem em \"população\" sejam a causa de grande parte dos outros outliers citados."
      ]
    },
    {
      "cell_type": "code",
      "metadata": {
        "colab": {
          "base_uri": "https://localhost:8080/",
          "height": 496
        },
        "id": "ghTJdL68PBVN",
        "outputId": "11b859e8-b3ac-4878-91fd-1675da2f3801"
      },
      "source": [
        "# gráfico com features ordenadas do mior para o menor de acordo com população\n",
        "dados.sort_values('população', ascending=False)"
      ],
      "execution_count": null,
      "outputs": [
        {
          "output_type": "execute_result",
          "data": {
            "text/html": [
              "<div>\n",
              "<style scoped>\n",
              "    .dataframe tbody tr th:only-of-type {\n",
              "        vertical-align: middle;\n",
              "    }\n",
              "\n",
              "    .dataframe tbody tr th {\n",
              "        vertical-align: top;\n",
              "    }\n",
              "\n",
              "    .dataframe thead th {\n",
              "        text-align: right;\n",
              "    }\n",
              "</style>\n",
              "<table border=\"1\" class=\"dataframe\">\n",
              "  <thead>\n",
              "    <tr style=\"text-align: right;\">\n",
              "      <th></th>\n",
              "      <th>codigo</th>\n",
              "      <th>nome</th>\n",
              "      <th>população</th>\n",
              "      <th>popAte9</th>\n",
              "      <th>popDe10a14</th>\n",
              "      <th>popDe15a19</th>\n",
              "      <th>popDe20a24</th>\n",
              "      <th>popDe25a34</th>\n",
              "      <th>popDe35a49</th>\n",
              "      <th>popDe50a59</th>\n",
              "      <th>popMaisDe60</th>\n",
              "      <th>domiciliosA1</th>\n",
              "      <th>domiciliosA2</th>\n",
              "      <th>domiciliosB1</th>\n",
              "      <th>domiciliosB2</th>\n",
              "      <th>domiciliosC1</th>\n",
              "      <th>domiciliosC2</th>\n",
              "      <th>domiciliosD</th>\n",
              "      <th>domiciliosE</th>\n",
              "      <th>rendaMedia</th>\n",
              "      <th>faturamento</th>\n",
              "    </tr>\n",
              "  </thead>\n",
              "  <tbody>\n",
              "    <tr>\n",
              "      <th>23</th>\n",
              "      <td>3304557102</td>\n",
              "      <td>Campo Grande</td>\n",
              "      <td>667603</td>\n",
              "      <td>122578</td>\n",
              "      <td>55935</td>\n",
              "      <td>62342</td>\n",
              "      <td>60567</td>\n",
              "      <td>86116</td>\n",
              "      <td>105316</td>\n",
              "      <td>83341</td>\n",
              "      <td>91408</td>\n",
              "      <td>0</td>\n",
              "      <td>1389</td>\n",
              "      <td>11747</td>\n",
              "      <td>21237</td>\n",
              "      <td>33111</td>\n",
              "      <td>25779</td>\n",
              "      <td>4956</td>\n",
              "      <td>12944</td>\n",
              "      <td>1856.0</td>\n",
              "      <td>69645.0</td>\n",
              "    </tr>\n",
              "    <tr>\n",
              "      <th>8</th>\n",
              "      <td>3304557099</td>\n",
              "      <td>Bangu</td>\n",
              "      <td>249987</td>\n",
              "      <td>32651</td>\n",
              "      <td>15949</td>\n",
              "      <td>20926</td>\n",
              "      <td>20146</td>\n",
              "      <td>37750</td>\n",
              "      <td>53090</td>\n",
              "      <td>31246</td>\n",
              "      <td>38229</td>\n",
              "      <td>0</td>\n",
              "      <td>496</td>\n",
              "      <td>5246</td>\n",
              "      <td>13274</td>\n",
              "      <td>24363</td>\n",
              "      <td>22447</td>\n",
              "      <td>4564</td>\n",
              "      <td>11109</td>\n",
              "      <td>1550.0</td>\n",
              "      <td>35465.0</td>\n",
              "    </tr>\n",
              "    <tr>\n",
              "      <th>127</th>\n",
              "      <td>3304557107</td>\n",
              "      <td>Santa Cruz</td>\n",
              "      <td>223440</td>\n",
              "      <td>35572</td>\n",
              "      <td>16403</td>\n",
              "      <td>20998</td>\n",
              "      <td>18090</td>\n",
              "      <td>34697</td>\n",
              "      <td>46774</td>\n",
              "      <td>23878</td>\n",
              "      <td>27028</td>\n",
              "      <td>0</td>\n",
              "      <td>0</td>\n",
              "      <td>2057</td>\n",
              "      <td>8310</td>\n",
              "      <td>18161</td>\n",
              "      <td>22160</td>\n",
              "      <td>4572</td>\n",
              "      <td>14833</td>\n",
              "      <td>1188.0</td>\n",
              "      <td>43346.0</td>\n",
              "    </tr>\n",
              "    <tr>\n",
              "      <th>117</th>\n",
              "      <td>3304557097</td>\n",
              "      <td>Realengo</td>\n",
              "      <td>185206</td>\n",
              "      <td>23513</td>\n",
              "      <td>11337</td>\n",
              "      <td>14883</td>\n",
              "      <td>14252</td>\n",
              "      <td>27747</td>\n",
              "      <td>39378</td>\n",
              "      <td>23702</td>\n",
              "      <td>30394</td>\n",
              "      <td>0</td>\n",
              "      <td>242</td>\n",
              "      <td>4551</td>\n",
              "      <td>11214</td>\n",
              "      <td>18442</td>\n",
              "      <td>16361</td>\n",
              "      <td>3661</td>\n",
              "      <td>8364</td>\n",
              "      <td>1576.0</td>\n",
              "      <td>89769.0</td>\n",
              "    </tr>\n",
              "    <tr>\n",
              "      <th>141</th>\n",
              "      <td>3304557030</td>\n",
              "      <td>Tijuca</td>\n",
              "      <td>168267</td>\n",
              "      <td>13033</td>\n",
              "      <td>6405</td>\n",
              "      <td>9750</td>\n",
              "      <td>10968</td>\n",
              "      <td>23657</td>\n",
              "      <td>33313</td>\n",
              "      <td>23892</td>\n",
              "      <td>47249</td>\n",
              "      <td>4351</td>\n",
              "      <td>8306</td>\n",
              "      <td>19076</td>\n",
              "      <td>11631</td>\n",
              "      <td>10755</td>\n",
              "      <td>6539</td>\n",
              "      <td>1280</td>\n",
              "      <td>3723</td>\n",
              "      <td>7844.0</td>\n",
              "      <td>2157079.0</td>\n",
              "    </tr>\n",
              "    <tr>\n",
              "      <th>...</th>\n",
              "      <td>...</td>\n",
              "      <td>...</td>\n",
              "      <td>...</td>\n",
              "      <td>...</td>\n",
              "      <td>...</td>\n",
              "      <td>...</td>\n",
              "      <td>...</td>\n",
              "      <td>...</td>\n",
              "      <td>...</td>\n",
              "      <td>...</td>\n",
              "      <td>...</td>\n",
              "      <td>...</td>\n",
              "      <td>...</td>\n",
              "      <td>...</td>\n",
              "      <td>...</td>\n",
              "      <td>...</td>\n",
              "      <td>...</td>\n",
              "      <td>...</td>\n",
              "      <td>...</td>\n",
              "      <td>...</td>\n",
              "      <td>...</td>\n",
              "    </tr>\n",
              "    <tr>\n",
              "      <th>20</th>\n",
              "      <td>3304557132</td>\n",
              "      <td>Camorim</td>\n",
              "      <td>2025</td>\n",
              "      <td>282</td>\n",
              "      <td>120</td>\n",
              "      <td>155</td>\n",
              "      <td>175</td>\n",
              "      <td>460</td>\n",
              "      <td>452</td>\n",
              "      <td>207</td>\n",
              "      <td>174</td>\n",
              "      <td>4</td>\n",
              "      <td>52</td>\n",
              "      <td>144</td>\n",
              "      <td>104</td>\n",
              "      <td>132</td>\n",
              "      <td>132</td>\n",
              "      <td>35</td>\n",
              "      <td>92</td>\n",
              "      <td>2929.0</td>\n",
              "      <td>876113.0</td>\n",
              "    </tr>\n",
              "    <tr>\n",
              "      <th>31</th>\n",
              "      <td>3304557123</td>\n",
              "      <td>Cidade Universitária</td>\n",
              "      <td>1442</td>\n",
              "      <td>181</td>\n",
              "      <td>112</td>\n",
              "      <td>143</td>\n",
              "      <td>124</td>\n",
              "      <td>202</td>\n",
              "      <td>374</td>\n",
              "      <td>151</td>\n",
              "      <td>155</td>\n",
              "      <td>0</td>\n",
              "      <td>3</td>\n",
              "      <td>45</td>\n",
              "      <td>146</td>\n",
              "      <td>159</td>\n",
              "      <td>64</td>\n",
              "      <td>8</td>\n",
              "      <td>23</td>\n",
              "      <td>1934.0</td>\n",
              "      <td>855182.0</td>\n",
              "    </tr>\n",
              "    <tr>\n",
              "      <th>22</th>\n",
              "      <td>3304557094</td>\n",
              "      <td>Campo Dos Afonsos</td>\n",
              "      <td>1403</td>\n",
              "      <td>208</td>\n",
              "      <td>125</td>\n",
              "      <td>166</td>\n",
              "      <td>103</td>\n",
              "      <td>125</td>\n",
              "      <td>570</td>\n",
              "      <td>72</td>\n",
              "      <td>34</td>\n",
              "      <td>0</td>\n",
              "      <td>114</td>\n",
              "      <td>168</td>\n",
              "      <td>88</td>\n",
              "      <td>24</td>\n",
              "      <td>3</td>\n",
              "      <td>0</td>\n",
              "      <td>2</td>\n",
              "      <td>5876.0</td>\n",
              "      <td>935061.0</td>\n",
              "    </tr>\n",
              "    <tr>\n",
              "      <th>79</th>\n",
              "      <td>3304557129</td>\n",
              "      <td>Joá</td>\n",
              "      <td>842</td>\n",
              "      <td>61</td>\n",
              "      <td>29</td>\n",
              "      <td>35</td>\n",
              "      <td>46</td>\n",
              "      <td>131</td>\n",
              "      <td>192</td>\n",
              "      <td>132</td>\n",
              "      <td>216</td>\n",
              "      <td>79</td>\n",
              "      <td>59</td>\n",
              "      <td>57</td>\n",
              "      <td>33</td>\n",
              "      <td>7</td>\n",
              "      <td>8</td>\n",
              "      <td>0</td>\n",
              "      <td>20</td>\n",
              "      <td>17659.0</td>\n",
              "      <td>1162364.0</td>\n",
              "    </tr>\n",
              "    <tr>\n",
              "      <th>60</th>\n",
              "      <td>3304557136</td>\n",
              "      <td>Grumari</td>\n",
              "      <td>173</td>\n",
              "      <td>33</td>\n",
              "      <td>13</td>\n",
              "      <td>22</td>\n",
              "      <td>17</td>\n",
              "      <td>28</td>\n",
              "      <td>38</td>\n",
              "      <td>10</td>\n",
              "      <td>12</td>\n",
              "      <td>0</td>\n",
              "      <td>0</td>\n",
              "      <td>0</td>\n",
              "      <td>0</td>\n",
              "      <td>5</td>\n",
              "      <td>17</td>\n",
              "      <td>8</td>\n",
              "      <td>16</td>\n",
              "      <td>654.0</td>\n",
              "      <td>835491.0</td>\n",
              "    </tr>\n",
              "  </tbody>\n",
              "</table>\n",
              "<p>154 rows × 21 columns</p>\n",
              "</div>"
            ],
            "text/plain": [
              "         codigo                  nome  ...  rendaMedia  faturamento\n",
              "23   3304557102          Campo Grande  ...      1856.0      69645.0\n",
              "8    3304557099                 Bangu  ...      1550.0      35465.0\n",
              "127  3304557107            Santa Cruz  ...      1188.0      43346.0\n",
              "117  3304557097              Realengo  ...      1576.0      89769.0\n",
              "141  3304557030                Tijuca  ...      7844.0    2157079.0\n",
              "..          ...                   ...  ...         ...          ...\n",
              "20   3304557132               Camorim  ...      2929.0     876113.0\n",
              "31   3304557123  Cidade Universitária  ...      1934.0     855182.0\n",
              "22   3304557094     Campo Dos Afonsos  ...      5876.0     935061.0\n",
              "79   3304557129                   Joá  ...     17659.0    1162364.0\n",
              "60   3304557136               Grumari  ...       654.0     835491.0\n",
              "\n",
              "[154 rows x 21 columns]"
            ]
          },
          "metadata": {
            "tags": []
          },
          "execution_count": 55
        }
      ]
    },
    {
      "cell_type": "code",
      "metadata": {
        "colab": {
          "base_uri": "https://localhost:8080/",
          "height": 295
        },
        "id": "wq2YBYZ7RXxV",
        "outputId": "e09d6e6f-4e23-473d-ce25-a6586665982b"
      },
      "source": [
        "# gráfico de barras para mostrar os 5 bairros com mais gente\n",
        "instancias_populacao = [dados.sort_values('população', ascending=False).iloc[x]['população'] for x in range(5)]\n",
        "\n",
        "plt.bar(list(range(1, 6)), instancias_populacao)\n",
        "plt.xlabel('Maiores bairros')\n",
        "plt.ylabel('Quantidade de pessoas')\n",
        "plt.title('Mostrando quantidade de pessoas dos 5 bairros com mais gente')\n",
        "plt.show()\n",
        "\n",
        "del instancias_populacao"
      ],
      "execution_count": null,
      "outputs": [
        {
          "output_type": "display_data",
          "data": {
            "image/png": "[encoded data removed]",
            "text/plain": [
              "<Figure size 432x288 with 1 Axes>"
            ]
          },
          "metadata": {
            "tags": [],
            "needs_background": "light"
          }
        }
      ]
    },
    {
      "cell_type": "code",
      "metadata": {
        "colab": {
          "base_uri": "https://localhost:8080/",
          "height": 479
        },
        "id": "PwVMPuy2T6KW",
        "outputId": "3ab624f4-e08e-4a79-a190-d39da7719ca5"
      },
      "source": [
        "# retirando maior outlier em população para testes\n",
        "populacao_sem_maior = dados.sort_values('população', ascending=False).iloc[1:]\n",
        "populacao_sem_maior"
      ],
      "execution_count": null,
      "outputs": [
        {
          "output_type": "execute_result",
          "data": {
            "text/html": [
              "<div>\n",
              "<style scoped>\n",
              "    .dataframe tbody tr th:only-of-type {\n",
              "        vertical-align: middle;\n",
              "    }\n",
              "\n",
              "    .dataframe tbody tr th {\n",
              "        vertical-align: top;\n",
              "    }\n",
              "\n",
              "    .dataframe thead th {\n",
              "        text-align: right;\n",
              "    }\n",
              "</style>\n",
              "<table border=\"1\" class=\"dataframe\">\n",
              "  <thead>\n",
              "    <tr style=\"text-align: right;\">\n",
              "      <th></th>\n",
              "      <th>codigo</th>\n",
              "      <th>nome</th>\n",
              "      <th>população</th>\n",
              "      <th>popAte9</th>\n",
              "      <th>popDe10a14</th>\n",
              "      <th>popDe15a19</th>\n",
              "      <th>popDe20a24</th>\n",
              "      <th>popDe25a34</th>\n",
              "      <th>popDe35a49</th>\n",
              "      <th>popDe50a59</th>\n",
              "      <th>popMaisDe60</th>\n",
              "      <th>domiciliosA1</th>\n",
              "      <th>domiciliosA2</th>\n",
              "      <th>domiciliosB1</th>\n",
              "      <th>domiciliosB2</th>\n",
              "      <th>domiciliosC1</th>\n",
              "      <th>domiciliosC2</th>\n",
              "      <th>domiciliosD</th>\n",
              "      <th>domiciliosE</th>\n",
              "      <th>rendaMedia</th>\n",
              "      <th>faturamento</th>\n",
              "    </tr>\n",
              "  </thead>\n",
              "  <tbody>\n",
              "    <tr>\n",
              "      <th>8</th>\n",
              "      <td>3304557099</td>\n",
              "      <td>Bangu</td>\n",
              "      <td>249987</td>\n",
              "      <td>32651</td>\n",
              "      <td>15949</td>\n",
              "      <td>20926</td>\n",
              "      <td>20146</td>\n",
              "      <td>37750</td>\n",
              "      <td>53090</td>\n",
              "      <td>31246</td>\n",
              "      <td>38229</td>\n",
              "      <td>0</td>\n",
              "      <td>496</td>\n",
              "      <td>5246</td>\n",
              "      <td>13274</td>\n",
              "      <td>24363</td>\n",
              "      <td>22447</td>\n",
              "      <td>4564</td>\n",
              "      <td>11109</td>\n",
              "      <td>1550.0</td>\n",
              "      <td>35465.0</td>\n",
              "    </tr>\n",
              "    <tr>\n",
              "      <th>127</th>\n",
              "      <td>3304557107</td>\n",
              "      <td>Santa Cruz</td>\n",
              "      <td>223440</td>\n",
              "      <td>35572</td>\n",
              "      <td>16403</td>\n",
              "      <td>20998</td>\n",
              "      <td>18090</td>\n",
              "      <td>34697</td>\n",
              "      <td>46774</td>\n",
              "      <td>23878</td>\n",
              "      <td>27028</td>\n",
              "      <td>0</td>\n",
              "      <td>0</td>\n",
              "      <td>2057</td>\n",
              "      <td>8310</td>\n",
              "      <td>18161</td>\n",
              "      <td>22160</td>\n",
              "      <td>4572</td>\n",
              "      <td>14833</td>\n",
              "      <td>1188.0</td>\n",
              "      <td>43346.0</td>\n",
              "    </tr>\n",
              "    <tr>\n",
              "      <th>117</th>\n",
              "      <td>3304557097</td>\n",
              "      <td>Realengo</td>\n",
              "      <td>185206</td>\n",
              "      <td>23513</td>\n",
              "      <td>11337</td>\n",
              "      <td>14883</td>\n",
              "      <td>14252</td>\n",
              "      <td>27747</td>\n",
              "      <td>39378</td>\n",
              "      <td>23702</td>\n",
              "      <td>30394</td>\n",
              "      <td>0</td>\n",
              "      <td>242</td>\n",
              "      <td>4551</td>\n",
              "      <td>11214</td>\n",
              "      <td>18442</td>\n",
              "      <td>16361</td>\n",
              "      <td>3661</td>\n",
              "      <td>8364</td>\n",
              "      <td>1576.0</td>\n",
              "      <td>89769.0</td>\n",
              "    </tr>\n",
              "    <tr>\n",
              "      <th>141</th>\n",
              "      <td>3304557030</td>\n",
              "      <td>Tijuca</td>\n",
              "      <td>168267</td>\n",
              "      <td>13033</td>\n",
              "      <td>6405</td>\n",
              "      <td>9750</td>\n",
              "      <td>10968</td>\n",
              "      <td>23657</td>\n",
              "      <td>33313</td>\n",
              "      <td>23892</td>\n",
              "      <td>47249</td>\n",
              "      <td>4351</td>\n",
              "      <td>8306</td>\n",
              "      <td>19076</td>\n",
              "      <td>11631</td>\n",
              "      <td>10755</td>\n",
              "      <td>6539</td>\n",
              "      <td>1280</td>\n",
              "      <td>3723</td>\n",
              "      <td>7844.0</td>\n",
              "      <td>2157079.0</td>\n",
              "    </tr>\n",
              "    <tr>\n",
              "      <th>72</th>\n",
              "      <td>3304557081</td>\n",
              "      <td>Jacarepaguá</td>\n",
              "      <td>161748</td>\n",
              "      <td>24961</td>\n",
              "      <td>10376</td>\n",
              "      <td>13874</td>\n",
              "      <td>16321</td>\n",
              "      <td>32572</td>\n",
              "      <td>35693</td>\n",
              "      <td>14500</td>\n",
              "      <td>13451</td>\n",
              "      <td>422</td>\n",
              "      <td>1244</td>\n",
              "      <td>3405</td>\n",
              "      <td>7984</td>\n",
              "      <td>17034</td>\n",
              "      <td>15909</td>\n",
              "      <td>3178</td>\n",
              "      <td>6837</td>\n",
              "      <td>2160.0</td>\n",
              "      <td>94671.0</td>\n",
              "    </tr>\n",
              "    <tr>\n",
              "      <th>...</th>\n",
              "      <td>...</td>\n",
              "      <td>...</td>\n",
              "      <td>...</td>\n",
              "      <td>...</td>\n",
              "      <td>...</td>\n",
              "      <td>...</td>\n",
              "      <td>...</td>\n",
              "      <td>...</td>\n",
              "      <td>...</td>\n",
              "      <td>...</td>\n",
              "      <td>...</td>\n",
              "      <td>...</td>\n",
              "      <td>...</td>\n",
              "      <td>...</td>\n",
              "      <td>...</td>\n",
              "      <td>...</td>\n",
              "      <td>...</td>\n",
              "      <td>...</td>\n",
              "      <td>...</td>\n",
              "      <td>...</td>\n",
              "      <td>...</td>\n",
              "    </tr>\n",
              "    <tr>\n",
              "      <th>20</th>\n",
              "      <td>3304557132</td>\n",
              "      <td>Camorim</td>\n",
              "      <td>2025</td>\n",
              "      <td>282</td>\n",
              "      <td>120</td>\n",
              "      <td>155</td>\n",
              "      <td>175</td>\n",
              "      <td>460</td>\n",
              "      <td>452</td>\n",
              "      <td>207</td>\n",
              "      <td>174</td>\n",
              "      <td>4</td>\n",
              "      <td>52</td>\n",
              "      <td>144</td>\n",
              "      <td>104</td>\n",
              "      <td>132</td>\n",
              "      <td>132</td>\n",
              "      <td>35</td>\n",
              "      <td>92</td>\n",
              "      <td>2929.0</td>\n",
              "      <td>876113.0</td>\n",
              "    </tr>\n",
              "    <tr>\n",
              "      <th>31</th>\n",
              "      <td>3304557123</td>\n",
              "      <td>Cidade Universitária</td>\n",
              "      <td>1442</td>\n",
              "      <td>181</td>\n",
              "      <td>112</td>\n",
              "      <td>143</td>\n",
              "      <td>124</td>\n",
              "      <td>202</td>\n",
              "      <td>374</td>\n",
              "      <td>151</td>\n",
              "      <td>155</td>\n",
              "      <td>0</td>\n",
              "      <td>3</td>\n",
              "      <td>45</td>\n",
              "      <td>146</td>\n",
              "      <td>159</td>\n",
              "      <td>64</td>\n",
              "      <td>8</td>\n",
              "      <td>23</td>\n",
              "      <td>1934.0</td>\n",
              "      <td>855182.0</td>\n",
              "    </tr>\n",
              "    <tr>\n",
              "      <th>22</th>\n",
              "      <td>3304557094</td>\n",
              "      <td>Campo Dos Afonsos</td>\n",
              "      <td>1403</td>\n",
              "      <td>208</td>\n",
              "      <td>125</td>\n",
              "      <td>166</td>\n",
              "      <td>103</td>\n",
              "      <td>125</td>\n",
              "      <td>570</td>\n",
              "      <td>72</td>\n",
              "      <td>34</td>\n",
              "      <td>0</td>\n",
              "      <td>114</td>\n",
              "      <td>168</td>\n",
              "      <td>88</td>\n",
              "      <td>24</td>\n",
              "      <td>3</td>\n",
              "      <td>0</td>\n",
              "      <td>2</td>\n",
              "      <td>5876.0</td>\n",
              "      <td>935061.0</td>\n",
              "    </tr>\n",
              "    <tr>\n",
              "      <th>79</th>\n",
              "      <td>3304557129</td>\n",
              "      <td>Joá</td>\n",
              "      <td>842</td>\n",
              "      <td>61</td>\n",
              "      <td>29</td>\n",
              "      <td>35</td>\n",
              "      <td>46</td>\n",
              "      <td>131</td>\n",
              "      <td>192</td>\n",
              "      <td>132</td>\n",
              "      <td>216</td>\n",
              "      <td>79</td>\n",
              "      <td>59</td>\n",
              "      <td>57</td>\n",
              "      <td>33</td>\n",
              "      <td>7</td>\n",
              "      <td>8</td>\n",
              "      <td>0</td>\n",
              "      <td>20</td>\n",
              "      <td>17659.0</td>\n",
              "      <td>1162364.0</td>\n",
              "    </tr>\n",
              "    <tr>\n",
              "      <th>60</th>\n",
              "      <td>3304557136</td>\n",
              "      <td>Grumari</td>\n",
              "      <td>173</td>\n",
              "      <td>33</td>\n",
              "      <td>13</td>\n",
              "      <td>22</td>\n",
              "      <td>17</td>\n",
              "      <td>28</td>\n",
              "      <td>38</td>\n",
              "      <td>10</td>\n",
              "      <td>12</td>\n",
              "      <td>0</td>\n",
              "      <td>0</td>\n",
              "      <td>0</td>\n",
              "      <td>0</td>\n",
              "      <td>5</td>\n",
              "      <td>17</td>\n",
              "      <td>8</td>\n",
              "      <td>16</td>\n",
              "      <td>654.0</td>\n",
              "      <td>835491.0</td>\n",
              "    </tr>\n",
              "  </tbody>\n",
              "</table>\n",
              "<p>153 rows × 21 columns</p>\n",
              "</div>"
            ],
            "text/plain": [
              "         codigo                  nome  ...  rendaMedia  faturamento\n",
              "8    3304557099                 Bangu  ...      1550.0      35465.0\n",
              "127  3304557107            Santa Cruz  ...      1188.0      43346.0\n",
              "117  3304557097              Realengo  ...      1576.0      89769.0\n",
              "141  3304557030                Tijuca  ...      7844.0    2157079.0\n",
              "72   3304557081           Jacarepaguá  ...      2160.0      94671.0\n",
              "..          ...                   ...  ...         ...          ...\n",
              "20   3304557132               Camorim  ...      2929.0     876113.0\n",
              "31   3304557123  Cidade Universitária  ...      1934.0     855182.0\n",
              "22   3304557094     Campo Dos Afonsos  ...      5876.0     935061.0\n",
              "79   3304557129                   Joá  ...     17659.0    1162364.0\n",
              "60   3304557136               Grumari  ...       654.0     835491.0\n",
              "\n",
              "[153 rows x 21 columns]"
            ]
          },
          "metadata": {
            "tags": []
          },
          "execution_count": 57
        }
      ]
    },
    {
      "cell_type": "code",
      "metadata": {
        "colab": {
          "base_uri": "https://localhost:8080/",
          "height": 265
        },
        "id": "gnaEU_5EWE5s",
        "outputId": "23660808-21d9-4b1a-b979-5570578cfbcf"
      },
      "source": [
        "# boxplot da feature população (sem o bairro com mais gente)\n",
        "\n",
        "plt.boxplot(populacao_sem_maior['população'], labels=['população'])\n",
        "plt.ylabel('Quantidade')\n",
        "plt.show()"
      ],
      "execution_count": null,
      "outputs": [
        {
          "output_type": "display_data",
          "data": {
            "image/png": "[encoded data removed]",
            "text/plain": [
              "<Figure size 432x288 with 1 Axes>"
            ]
          },
          "metadata": {
            "tags": [],
            "needs_background": "light"
          }
        }
      ]
    },
    {
      "cell_type": "code",
      "metadata": {
        "id": "k7bSLHC5WVyP",
        "colab": {
          "base_uri": "https://localhost:8080/",
          "height": 567
        },
        "outputId": "a94febf5-f544-4964-be9e-19b98b6d1611"
      },
      "source": [
        "# boxplot comparando as idades de população (sem o bairro com mais gente)\n",
        "\n",
        "labels = ['popAte9', 'popDe10a14', 'popDe15a19', 'popDe20a24', 'popDe25a34', 'popDe35a49', 'popDe50a59', 'popMaisDe60']\n",
        "plt.figure(figsize=(12.5,9)) \n",
        "plt.ticklabel_format(useOffset=False, style='plain')\n",
        "plt.boxplot([populacao_sem_maior['popAte9'], populacao_sem_maior['popDe10a14'], populacao_sem_maior['popDe15a19'], populacao_sem_maior['popDe20a24'], \n",
        "            populacao_sem_maior['popDe25a34'], populacao_sem_maior['popDe35a49'], populacao_sem_maior['popDe50a59'], populacao_sem_maior['popMaisDe60']], labels=labels)\n",
        "plt.title('Comparação de população por idade')\n",
        "plt.ylabel('Quantidade de pessoas')\n",
        "plt.xlabel('classes')\n",
        "plt.show()"
      ],
      "execution_count": null,
      "outputs": [
        {
          "output_type": "display_data",
          "data": {
            "image/png": "[encoded data removed]",
            "text/plain": [
              "<Figure size 900x648 with 1 Axes>"
            ]
          },
          "metadata": {
            "tags": [],
            "needs_background": "light"
          }
        }
      ]
    },
    {
      "cell_type": "markdown",
      "metadata": {
        "id": "Lujn809hYJow"
      },
      "source": [
        "Se compararmos os dois boxplot sem o maior outlier da população com os dois boxplot com o maior outlier da população, é possível ver que o pico dos valores diminuiu bastante, na comparação entre as idades foi de 15 mil para 5 mil, ganhando ainda mais peso para a hipotese 1. Entretanto, ainda existem outliers. \n"
      ]
    },
    {
      "cell_type": "markdown",
      "metadata": {
        "id": "M5yoxEHnZ-xj"
      },
      "source": [
        "**Estratégia para lidar com os outliers das features relacionadas a população**\n",
        "\n",
        "Como o objetivo da análise é a construção de um modelo de regressão capaz de prever a feature faturamento, os outliers não serão removidos. Essa abordage se dá ao fato do significado das features. Elas terem outliers são caracterísictas do ambiente analisado, logo, é necessário que o modelo lide com esse tipo de instância.\n"
      ]
    },
    {
      "cell_type": "code",
      "metadata": {
        "colab": {
          "base_uri": "https://localhost:8080/",
          "height": 567
        },
        "id": "Sz3mauy2bx-t",
        "outputId": "d3e05c89-858b-4e92-890e-30118329c5fb"
      },
      "source": [
        "# boxplot comparando a quantidade de domicílios por classe\n",
        "\t \t \t \t \t\n",
        "labels = ['domiciliosA1', 'domiciliosA2', 'domiciliosB1', 'domiciliosB2', 'domiciliosC1', 'domiciliosC2', 'domiciliosD', 'domiciliosE']\n",
        "plt.figure(figsize=(12.5,9)) \n",
        "plt.ticklabel_format(useOffset=False, style='plain')\n",
        "plt.boxplot([dados[labels[0]], dados[labels[1]], dados[labels[2]], dados[labels[3]], \n",
        "            dados[labels[4]], dados[labels[5]], dados[labels[6]], dados[labels[7]]], labels=labels)\n",
        "plt.title('Comparação de domicílios')\n",
        "plt.ylabel('Quantidade de domicílios')\n",
        "plt.xlabel('classes')\n",
        "plt.show()"
      ],
      "execution_count": null,
      "outputs": [
        {
          "output_type": "display_data",
          "data": {
            "image/png": "[encoded data removed]",
            "text/plain": [
              "<Figure size 900x648 with 1 Axes>"
            ]
          },
          "metadata": {
            "tags": [],
            "needs_background": "light"
          }
        }
      ]
    },
    {
      "cell_type": "code",
      "metadata": {
        "colab": {
          "base_uri": "https://localhost:8080/",
          "height": 567
        },
        "id": "GqJd1eF3W_yE",
        "outputId": "f2bf2dc8-36f9-4620-abc2-7c012d8c9b5c"
      },
      "source": [
        "# gráfico da barras mostrando quantidade de domicílios\n",
        "\n",
        "colunas = ['domiciliosA1', 'domiciliosA2', 'domiciliosB1', 'domiciliosB2', 'domiciliosC1', 'domiciliosC2', 'domiciliosD', 'domiciliosE']\n",
        "\n",
        "somas = [sum(dados[coluna].values) for coluna in colunas]\n",
        "somas = pd.Series(somas)\n",
        "somas.index = colunas\n",
        "somas = somas.sort_values()\n",
        "\n",
        "plt.figure(figsize=(12.5,9)) \n",
        "plt.bar(somas.index, somas.values)\n",
        "plt.xlabel('domicílios')\n",
        "plt.ylabel('Quantidade de domicílios')\n",
        "plt.title('Mostrando gráfico da quantidade de domicílios em cada classe')\n",
        "plt.show()"
      ],
      "execution_count": null,
      "outputs": [
        {
          "output_type": "display_data",
          "data": {
            "image/png": "[encoded data removed]",
            "text/plain": [
              "<Figure size 900x648 with 1 Axes>"
            ]
          },
          "metadata": {
            "tags": [],
            "needs_background": "light"
          }
        }
      ]
    },
    {
      "cell_type": "markdown",
      "metadata": {
        "id": "aqcGa2oSbJMi"
      },
      "source": [
        "A ordem das classes de rendas em domicílios, segundo os dois gráficos anteriores são (escala descendente):\n",
        "\n",
        "1.   C1\n",
        "2.   C2\n",
        "3.   B2\n",
        "4.   B1\n",
        "5.   E\n",
        "6.   A2\n",
        "7.   D\n",
        "8.   A1\n",
        "\n",
        "Estudo sobre como essas features afetam a renda média e faturamento devem ser feitos."
      ]
    },
    {
      "cell_type": "code",
      "metadata": {
        "colab": {
          "base_uri": "https://localhost:8080/",
          "height": 537
        },
        "id": "tpFHapC1diRX",
        "outputId": "bff60782-362b-4b13-aae9-31a262ad38c6"
      },
      "source": [
        "# plotando comparação dos atributos dos domicílios com o atributo população\n",
        "\n",
        "colunas = ['domiciliosA1', 'domiciliosA2', 'domiciliosB1', 'domiciliosB2', 'domiciliosC1', 'domiciliosC2', 'domiciliosD', 'domiciliosE']\n",
        "\n",
        "plt.figure(figsize=(12.5,9)) \n",
        "for coluna in colunas:\n",
        "  plt.scatter(dados['população'],dados[coluna],label=coluna, linewidths=2)\n",
        "plt.legend()\n",
        "plt.show()"
      ],
      "execution_count": null,
      "outputs": [
        {
          "output_type": "display_data",
          "data": {
            "image/png": "[encoded data removed]",
            "text/plain": [
              "<Figure size 900x648 with 1 Axes>"
            ]
          },
          "metadata": {
            "tags": [],
            "needs_background": "light"
          }
        }
      ]
    },
    {
      "cell_type": "code",
      "metadata": {
        "colab": {
          "base_uri": "https://localhost:8080/"
        },
        "id": "7CQ4YVGkduW3",
        "outputId": "29e32193-5633-4754-c05c-9901473a2fd8"
      },
      "source": [
        "# mostrando índice de correlação entre a feature de população e as features de domicílios\n",
        "dados.corr()['população'].loc[['domiciliosA1', 'domiciliosA2', 'domiciliosB1', 'domiciliosB2', 'domiciliosC1', 'domiciliosC2', 'domiciliosD', 'domiciliosE']]"
      ],
      "execution_count": null,
      "outputs": [
        {
          "output_type": "execute_result",
          "data": {
            "text/plain": [
              "domiciliosA1    0.185050\n",
              "domiciliosA2    0.292196\n",
              "domiciliosB1    0.565363\n",
              "domiciliosB2    0.905439\n",
              "domiciliosC1    0.928215\n",
              "domiciliosC2    0.861135\n",
              "domiciliosD     0.832294\n",
              "domiciliosE     0.823415\n",
              "Name: população, dtype: float64"
            ]
          },
          "metadata": {
            "tags": []
          },
          "execution_count": 63
        }
      ]
    },
    {
      "cell_type": "markdown",
      "metadata": {
        "id": "caK0O-r-dEyi"
      },
      "source": [
        "Os outliers aqui tem algumas características.\n",
        "\n",
        "*   As classes A1, A2 e B1 tem um índice de correlação positiva fraca. Não necessariamente quanto mais gente, mais domicílios de classe alta (A1, A2, B1) existirão.\n",
        "*   A observação anterior não se aplica a domicílios B2, C1, C2, D e E. Esses domicílios tem uma correlação positiva forte com o número de pessoas na feature população.\n",
        "*   Os bairros com mais pessoas possivelmente terão mais classes B2, C1, C2, D e E em comparação com as classes A1, A2 e B1.\n",
        "*   Provavelmente o motivo das classes de renda mais altas terem um coeficiente de correlação mais baixo com a população se deve ao fato da desigualdde econômica.\n",
        "*   Estudo de como esses fatores afetam a renda média e o faturamento serão feitos.\n",
        "\n"
      ]
    },
    {
      "cell_type": "code",
      "metadata": {
        "colab": {
          "base_uri": "https://localhost:8080/",
          "height": 265
        },
        "id": "4eZ8wOO30Pui",
        "outputId": "27a08638-5de0-4c2f-8ad3-7c0b3d09beba"
      },
      "source": [
        "# boxplot da feature de renda média\n",
        "\n",
        "plt.boxplot(dados['rendaMedia'].values, labels=['rendaMedia'])\n",
        "plt.ylabel('rendaMedia')\n",
        "plt.show()"
      ],
      "execution_count": null,
      "outputs": [
        {
          "output_type": "display_data",
          "data": {
            "image/png": "[encoded data removed]",
            "text/plain": [
              "<Figure size 432x288 with 1 Axes>"
            ]
          },
          "metadata": {
            "tags": [],
            "needs_background": "light"
          }
        }
      ]
    },
    {
      "cell_type": "code",
      "metadata": {
        "colab": {
          "base_uri": "https://localhost:8080/",
          "height": 296
        },
        "id": "axMf816g8lDN",
        "outputId": "39bce3a6-adea-43e6-eae1-0c0028d81818"
      },
      "source": [
        "# plotando renda média  por bairro\n",
        "plt.plot(dados.rendaMedia)\n",
        "plt.xlabel('Bairros (por instância)')\n",
        "plt.ylabel('Renda')\n",
        "plt.title('Renda Média por bairro')\n",
        "plt.show()"
      ],
      "execution_count": null,
      "outputs": [
        {
          "output_type": "display_data",
          "data": {
            "image/png": "[encoded data removed]",
            "text/plain": [
              "<Figure size 432x288 with 1 Axes>"
            ]
          },
          "metadata": {
            "tags": [],
            "needs_background": "light"
          }
        }
      ]
    },
    {
      "cell_type": "markdown",
      "metadata": {
        "id": "zxU3fpCE8ww6"
      },
      "source": [
        "Hipoteses para os outliers de renda média:\n",
        "\n",
        "*   Esses outliers são o reflexo da desigualdade econômica, mostrando alguns bairros com domicílios de classe A1, A2 e B1 e com uma renda média mais alta.\n",
        "*   Existem bairros com uma quantidade baixa de pessoas e uma quantidade alta de domicílios com classe A1, A2 e B1. Se a concentração de renda for grande e o número de pessoas for pequeno a renda média será alta.\n",
        "\n"
      ]
    },
    {
      "cell_type": "code",
      "metadata": {
        "colab": {
          "base_uri": "https://localhost:8080/",
          "height": 265
        },
        "id": "I5t62vHA-H_s",
        "outputId": "2f678a5e-f0e4-4e66-fa6f-edbd24e2aee1"
      },
      "source": [
        "# boxplot da feature de faturamento\n",
        "\n",
        "plt.boxplot(dados['faturamento'].values, labels=['faturamento'])\n",
        "plt.ylabel('faturamento')\n",
        "plt.ticklabel_format(style='plain', axis='y')\n",
        "plt.show()"
      ],
      "execution_count": null,
      "outputs": [
        {
          "output_type": "display_data",
          "data": {
            "image/png": "[encoded data removed]",
            "text/plain": [
              "<Figure size 432x288 with 1 Axes>"
            ]
          },
          "metadata": {
            "tags": [],
            "needs_background": "light"
          }
        }
      ]
    },
    {
      "cell_type": "code",
      "metadata": {
        "colab": {
          "base_uri": "https://localhost:8080/",
          "height": 296
        },
        "id": "DbkvyTH_Ap1q",
        "outputId": "0d643bce-7226-4ac8-e5ff-979953d438e8"
      },
      "source": [
        "# plotando faturamento  por bairro\n",
        "\n",
        "plt.plot(dados.faturamento)\n",
        "plt.xlabel('Bairros (por instância)')\n",
        "plt.ylabel('Faturamento')\n",
        "plt.title('Faturamento por bairro')\n",
        "plt.ticklabel_format(style='plain', axis='y')\n",
        "plt.show()"
      ],
      "execution_count": null,
      "outputs": [
        {
          "output_type": "display_data",
          "data": {
            "image/png": "[encoded data removed]",
            "text/plain": [
              "<Figure size 432x288 with 1 Axes>"
            ]
          },
          "metadata": {
            "tags": [],
            "needs_background": "light"
          }
        }
      ]
    },
    {
      "cell_type": "markdown",
      "metadata": {
        "id": "btTyHofuAfBP"
      },
      "source": [
        "A feature de faturamento está bem dispersa, mas não tem nenhuma característica notória e importante, segundo os gráficos."
      ]
    },
    {
      "cell_type": "markdown",
      "metadata": {
        "id": "FInm7faaBXkX"
      },
      "source": [
        "### Análise de correlação"
      ]
    },
    {
      "cell_type": "markdown",
      "metadata": {
        "id": "wmyCxpBHOq55"
      },
      "source": [
        "A parte de análise de correlação tenta entender a relação estatística entre duas variáveis, como uma variável se comporta quando a outra varia. É importante pois a correlação mostra quanto de uma variável pode ser usada para explicar a outra. \n",
        "\n",
        "Lembrando: Correlação não implica causalidade.\n",
        "\n"
      ]
    },
    {
      "cell_type": "markdown",
      "metadata": {
        "id": "eLtoBU8snqWr"
      },
      "source": [
        "Critérios: Irei utilizar os critérios abaixo para a análise de correlação. Seja x o coeficiente de correlação entre duas features:\n",
        "\n",
        "*   Correlação fraca:\n",
        "    *   -3 < x < 3  sendo que x != 0\n",
        "*   Correlação moderada:\n",
        "    *  -7 < x <= -3 ou 3 <= x < 7\n",
        "*   Correlação forte:\n",
        "    *   x <= -7 ou x >= 7"
      ]
    },
    {
      "cell_type": "code",
      "metadata": {
        "colab": {
          "base_uri": "https://localhost:8080/",
          "height": 776
        },
        "id": "U8ka16gTdhSa",
        "outputId": "1a236bc2-bc57-4a6b-dc0e-755c8dbb9e33"
      },
      "source": [
        "# plotando coeficientes de correlação em um mapa de calor das features de idade com as de domicílio\n",
        "# Ele mostra, também, o coeficiente de correlação dentro das células do mapa\n",
        "\n",
        "correlacoes = dados.corr()[['popAte9', 'popDe10a14', 'popDe15a19', 'popDe20a24', 'popDe25a34', 'popDe35a49', 'popDe50a59', 'popMaisDe60']].loc[['domiciliosA1', 'domiciliosA2', 'domiciliosB1', 'domiciliosB2', 'domiciliosC1', 'domiciliosC2', 'domiciliosD', 'domiciliosE']]\n",
        "plt.figure(figsize=(15, 13))\n",
        "sns.heatmap(correlacoes,vmin=-1, vmax=1, annot=True, center=0,cmap=sns.diverging_palette(20, 220, n=200))"
      ],
      "execution_count": null,
      "outputs": [
        {
          "output_type": "execute_result",
          "data": {
            "text/plain": [
              "<AxesSubplot:>"
            ]
          },
          "metadata": {
            "tags": []
          },
          "execution_count": 68
        },
        {
          "output_type": "display_data",
          "data": {
            "image/png": "[encoded data removed]",
            "text/plain": [
              "<Figure size 1080x936 with 2 Axes>"
            ]
          },
          "metadata": {
            "tags": [],
            "needs_background": "light"
          }
        }
      ]
    },
    {
      "cell_type": "markdown",
      "metadata": {
        "id": "QY-JfXjInsLD"
      },
      "source": [
        "Observações do mapa de calor:\n",
        "\n",
        "*   Não existem correlações negativas entre features.\n",
        "*   Existem algumas correlações positívas fortes entre features."
      ]
    },
    {
      "cell_type": "markdown",
      "metadata": {
        "id": "rJ-T0DbFfCu9"
      },
      "source": [
        "Observações de correlações positivas do mapa de calor:\n",
        "\n",
        "*   domiciliosE tem uma correlação positiva forte (a partir de 0.7) com todas as features de idade.\n",
        "*   domiciliosD tem uma correlação positiva forte (a partir de 0.68) com todas as features de idade.\n",
        "*   domiciliosC2 tem uma correlação positiva forte (a partir de 0.71) com todas as features de idade.\n",
        "*   domiciliosC1 tem uma correlação positiva forte (a partir de 0.85) com todas as features de idade.\n",
        "*   domiciliosB2 tem uma correlação positiva forte (a partir de 0.79) com todas as features de idade.\n",
        "*   domiciliosB1:\n",
        "    *   De popate9 até popDe10a14 correlação positiva fraca.\n",
        "    *   De popDe15a19 até popDe50a59 correlação positiva moderada.\n",
        "    *   popMaiDe60 tem correlação positiva forte.\n",
        "*   domiciliosA1:\n",
        "    *   De popate9 até popDe20a24 correlação positiva fraca.\n",
        "    *   A partir de popDe25a34 correlação positiva moderada.\n",
        "*   domiciliosB1:\n",
        "    *   De popate9 até popDe50a59 correlação positiva fraca.\n",
        "    *   popMaiDe60 tem correlação positiva moderada.\n",
        "\n",
        "\n",
        "\n"
      ]
    },
    {
      "cell_type": "markdown",
      "metadata": {
        "id": "M8t0-q3On6Es"
      },
      "source": [
        "Conclusões mapa de calor:\n",
        "\n",
        "\n",
        "\n",
        "*   As classes de domicílio A1, A2 e B1 tem uma correlação positiva geral mais baixa que as outras classes. Porém, quanto mais velha é a população, o coeficiente de correlação cresce.\n",
        "    * A relação entre a idade e os domicílios A1, A2 e B1, provavelmente é um reflexo da carreira de pessoas mais velhas, que é geralmente mais estável e com mais renda. Essa hipotese ganha mais força pois quanto menor a idade nessas classes, menor é o coeficiente de correlação.\n",
        "\n",
        "\n",
        "\n"
      ]
    },
    {
      "cell_type": "code",
      "metadata": {
        "colab": {
          "base_uri": "https://localhost:8080/",
          "height": 776
        },
        "id": "5WeWa9s_0ATl",
        "outputId": "1989495b-0968-423f-b40e-6e81789062d8"
      },
      "source": [
        "# plotando coeficientes de correlação em um mapa de calor\n",
        "# plotando comparação das features de domicílios com rendaMedia\n",
        "\n",
        "correlacoes = dados.corr()[['rendaMedia']].loc[['domiciliosA1', 'domiciliosA2', 'domiciliosB1', 'domiciliosB2', 'domiciliosC1', 'domiciliosC2', 'domiciliosD', 'domiciliosE']]\n",
        "\n",
        "plt.figure(figsize=(15, 13))\n",
        "sns.heatmap(correlacoes,vmin=-1, vmax=1, annot=True, center=0,cmap=sns.diverging_palette(20, 220, n=200))"
      ],
      "execution_count": null,
      "outputs": [
        {
          "output_type": "execute_result",
          "data": {
            "text/plain": [
              "<AxesSubplot:>"
            ]
          },
          "metadata": {
            "tags": []
          },
          "execution_count": 69
        },
        {
          "output_type": "display_data",
          "data": {
            "image/png": "[encoded data removed]",
            "text/plain": [
              "<Figure size 1080x936 with 2 Axes>"
            ]
          },
          "metadata": {
            "tags": [],
            "needs_background": "light"
          }
        }
      ]
    },
    {
      "cell_type": "markdown",
      "metadata": {
        "id": "Rs6bjzN03Ey1"
      },
      "source": [
        "O mapa de calor anterior revela 2 coisas:\n",
        "\n",
        "*   Quanto maior a classe do domicílio maior será a renda média.\n",
        "*   Quanto menor  a classe do domicílio menor será a renda média.\n",
        "\n"
      ]
    },
    {
      "cell_type": "code",
      "metadata": {
        "colab": {
          "base_uri": "https://localhost:8080/",
          "height": 778
        },
        "id": "fonv45Z32MkV",
        "outputId": "9a8cdc78-76da-4814-c5c8-e66dc8e407c0"
      },
      "source": [
        "# plotando coeficientes de correlação em um mapa de calor\n",
        "# plotando comparação das features de idade com rendaMedia\n",
        "\n",
        "correlacoes = dados.corr()[['rendaMedia']].loc[['popAte9', 'popDe10a14', 'popDe15a19', 'popDe20a24', 'popDe25a34', 'popDe35a49', 'popDe50a59', 'popMaisDe60']]\n",
        "\n",
        "plt.figure(figsize=(15, 13))\n",
        "sns.heatmap(correlacoes,vmin=-1, vmax=1, annot=True, center=0,cmap=sns.diverging_palette(20, 220, n=200))"
      ],
      "execution_count": null,
      "outputs": [
        {
          "output_type": "execute_result",
          "data": {
            "text/plain": [
              "<AxesSubplot:>"
            ]
          },
          "metadata": {
            "tags": []
          },
          "execution_count": 70
        },
        {
          "output_type": "display_data",
          "data": {
            "image/png": "[encoded data removed]",
            "text/plain": [
              "<Figure size 1080x936 with 2 Axes>"
            ]
          },
          "metadata": {
            "tags": [],
            "needs_background": "light"
          }
        }
      ]
    },
    {
      "cell_type": "markdown",
      "metadata": {
        "id": "f1wgGv78IFCQ"
      },
      "source": [
        "Resultados do gráfico de calor anterior indica que provavelmente não existe uma correlação entre a rendaMedia e as features de idade."
      ]
    },
    {
      "cell_type": "code",
      "metadata": {
        "colab": {
          "base_uri": "https://localhost:8080/",
          "height": 307
        },
        "id": "_tpQY7cY4Ifl",
        "outputId": "1bb5af71-bfba-490d-f905-aad7c9adab97"
      },
      "source": [
        "# plotando correlação entre rendaMedia e faturamento\n",
        "\n",
        "print(f'Coeficiente de Correlação: {dados.rendaMedia.corr(dados.faturamento)}')\n",
        "plt.scatter(dados.rendaMedia, dados.faturamento)\n",
        "plt.xlabel('rendaMedia')\n",
        "plt.ylabel('faturamento')\n",
        "plt.show()"
      ],
      "execution_count": null,
      "outputs": [
        {
          "output_type": "stream",
          "text": [
            "Coeficiente de Correlação: 0.5563354397610217\n"
          ],
          "name": "stdout"
        },
        {
          "output_type": "display_data",
          "data": {
            "image/png": "[encoded data removed]",
            "text/plain": [
              "<Figure size 432x288 with 1 Axes>"
            ]
          },
          "metadata": {
            "tags": [],
            "needs_background": "light"
          }
        }
      ]
    },
    {
      "cell_type": "markdown",
      "metadata": {
        "id": "ScfcfnJqIJl3"
      },
      "source": [
        "Gráfico de dispersão mostra que existe uma correlação positiva moderada entre a renda media e o faturamento. Ou seja, se um aumenta o outro provavelmente também aumenta."
      ]
    },
    {
      "cell_type": "code",
      "metadata": {
        "colab": {
          "base_uri": "https://localhost:8080/",
          "height": 776
        },
        "id": "86ZmL7JkHubY",
        "outputId": "d4834b8d-3094-4937-b22f-06ab41ec66aa"
      },
      "source": [
        "# plotando coeficientes de correlação em um mapa de calor das features de domicílio e faturmento\n",
        "# Ele mostra, também, o coeficiente de correlação dentro das células do mapa\n",
        "\n",
        "correlacoes = dados.corr()[['faturamento']].loc[['domiciliosA1', 'domiciliosA2', 'domiciliosB1', 'domiciliosB2', 'domiciliosC1', 'domiciliosC2', 'domiciliosD', 'domiciliosE']]\n",
        "plt.figure(figsize=(15, 13))\n",
        "sns.heatmap(correlacoes,vmin=-1, vmax=1, annot=True, center=0,cmap=sns.diverging_palette(20, 220, n=200))"
      ],
      "execution_count": null,
      "outputs": [
        {
          "output_type": "execute_result",
          "data": {
            "text/plain": [
              "<AxesSubplot:>"
            ]
          },
          "metadata": {
            "tags": []
          },
          "execution_count": 72
        },
        {
          "output_type": "display_data",
          "data": {
            "image/png": "[encoded data removed]",
            "text/plain": [
              "<Figure size 1080x936 with 2 Axes>"
            ]
          },
          "metadata": {
            "tags": [],
            "needs_background": "light"
          }
        }
      ]
    },
    {
      "cell_type": "markdown",
      "metadata": {
        "id": "KFk_3i9GJz1P"
      },
      "source": [
        "Segundo o mapa de calor anterior:\n",
        "\n",
        "*   Correlação positiva forte para domicílios de classe alta (B1, A2, A1).\n",
        "    *   Se um aumenta o outro aumenta e se um diminui o outro também diminui.\n",
        "    *   Característica promissora para modelo de regressão.  \n",
        "*   Correlação negativa moderada para domicílios de classe mais baixas (C2, D, E).\n",
        "    *   Se um aumenta o outro diminui e se um diminui o outro aumenta.\n",
        "    *   Característica promissora para modelo de regressão.  \n"
      ]
    },
    {
      "cell_type": "code",
      "metadata": {
        "colab": {
          "base_uri": "https://localhost:8080/",
          "height": 778
        },
        "id": "MefJ8irrJIoR",
        "outputId": "bf08af5f-b728-469f-bb60-acf9b9532446"
      },
      "source": [
        "# plotando coeficientes de correlação em um mapa de calor das features de domicílio e faturmento\n",
        "# Ele mostra, também, o coeficiente de correlação dentro das células do mapa\n",
        "\n",
        "correlacoes = dados.corr()[['faturamento']].loc[['popAte9', 'popDe10a14', 'popDe15a19', 'popDe20a24', 'popDe25a34', 'popDe35a49', 'popDe50a59', 'popMaisDe60']]\n",
        "plt.figure(figsize=(15, 13))\n",
        "sns.heatmap(correlacoes,vmin=-1, vmax=1, annot=True, center=0,cmap=sns.diverging_palette(20, 220, n=200))"
      ],
      "execution_count": null,
      "outputs": [
        {
          "output_type": "execute_result",
          "data": {
            "text/plain": [
              "<AxesSubplot:>"
            ]
          },
          "metadata": {
            "tags": []
          },
          "execution_count": 73
        },
        {
          "output_type": "display_data",
          "data": {
            "image/png": "[encoded data removed]",
            "text/plain": [
              "<Figure size 1080x936 with 2 Axes>"
            ]
          },
          "metadata": {
            "tags": [],
            "needs_background": "light"
          }
        }
      ]
    },
    {
      "cell_type": "markdown",
      "metadata": {
        "id": "0a8m420yMGkI"
      },
      "source": [
        "Os resultados significantes do mapa de calor anterior indica:\n",
        "\n",
        "\n",
        "\n",
        "*   Correlação negativa moderada (minimamente) entre a idade de 0 até 19 anos.\n",
        "    *   Na perspectiva do aumento do faturamento, se as pessoas com essa faixa etária for baixa, o faturamento será alto.\n",
        "\n",
        "Como o valor das correlações resultantes no gráfico anterior foram baixos, é possível argumentar que o faturamento não seja tão afetado pela idade da população.\n",
        "\n"
      ]
    },
    {
      "cell_type": "markdown",
      "metadata": {
        "id": "hgYS0ndHNpDY"
      },
      "source": [
        "### Conclusão geral análise de dados"
      ]
    },
    {
      "cell_type": "markdown",
      "metadata": {
        "id": "JBeAvBqkPG7x"
      },
      "source": [
        "As features mais promissoras para a construção dos modelos de previsão, segundo as análises, são: \n",
        "\n",
        "população, domiciliosA1, domiciliosA2,\tdomiciliosB1, domiciliosB2, domiciliosC1, domiciliosC2, domiciliosD, domiciliosE e rendaMedia.\n",
        "\n",
        "As features que caracterizavam a idade da população não tiveram resultados significativos nas análises, portanto, provavelmente o melhor modelo a ser construído será sem esses dados. Provavelmente o público alvo atendido pelo cliente não depende da idade.\n",
        "\n",
        "Para teste, será feito dois modelos, um com os dados de idade e o outro sem, e os resultados serão comparados.\n",
        "\n",
        "Obs: Nem todos os dados são úteis para os modelos de aprendizagem. Alguns podem, inclusive, piorar o aprendizado e causar falhas na previsão."
      ]
    },
    {
      "cell_type": "markdown",
      "metadata": {
        "id": "WK9JUBu1TkdZ"
      },
      "source": [
        "## Organizando dados para modelagem"
      ]
    },
    {
      "cell_type": "code",
      "metadata": {
        "colab": {
          "base_uri": "https://localhost:8080/"
        },
        "id": "pqzsavI3Tm3x",
        "outputId": "dc530ace-c16e-4072-9554-17d2c4a0c204"
      },
      "source": [
        "# mostrando dados\n",
        "dados.head()"
      ],
      "execution_count": null,
      "outputs": [
        {
          "output_type": "execute_result",
          "data": {
            "text/html": [
              "<div>\n",
              "<style scoped>\n",
              "    .dataframe tbody tr th:only-of-type {\n",
              "        vertical-align: middle;\n",
              "    }\n",
              "\n",
              "    .dataframe tbody tr th {\n",
              "        vertical-align: top;\n",
              "    }\n",
              "\n",
              "    .dataframe thead th {\n",
              "        text-align: right;\n",
              "    }\n",
              "</style>\n",
              "<table border=\"1\" class=\"dataframe\">\n",
              "  <thead>\n",
              "    <tr style=\"text-align: right;\">\n",
              "      <th></th>\n",
              "      <th>codigo</th>\n",
              "      <th>nome</th>\n",
              "      <th>população</th>\n",
              "      <th>popAte9</th>\n",
              "      <th>popDe10a14</th>\n",
              "      <th>popDe15a19</th>\n",
              "      <th>popDe20a24</th>\n",
              "      <th>popDe25a34</th>\n",
              "      <th>popDe35a49</th>\n",
              "      <th>popDe50a59</th>\n",
              "      <th>popMaisDe60</th>\n",
              "      <th>domiciliosA1</th>\n",
              "      <th>domiciliosA2</th>\n",
              "      <th>domiciliosB1</th>\n",
              "      <th>domiciliosB2</th>\n",
              "      <th>domiciliosC1</th>\n",
              "      <th>domiciliosC2</th>\n",
              "      <th>domiciliosD</th>\n",
              "      <th>domiciliosE</th>\n",
              "      <th>rendaMedia</th>\n",
              "      <th>faturamento</th>\n",
              "    </tr>\n",
              "  </thead>\n",
              "  <tbody>\n",
              "    <tr>\n",
              "      <th>0</th>\n",
              "      <td>3304557060</td>\n",
              "      <td>Abolição</td>\n",
              "      <td>11676</td>\n",
              "      <td>1027</td>\n",
              "      <td>483</td>\n",
              "      <td>688</td>\n",
              "      <td>800</td>\n",
              "      <td>1675</td>\n",
              "      <td>2300</td>\n",
              "      <td>1784</td>\n",
              "      <td>2919</td>\n",
              "      <td>0</td>\n",
              "      <td>145</td>\n",
              "      <td>715</td>\n",
              "      <td>1242</td>\n",
              "      <td>1093</td>\n",
              "      <td>758</td>\n",
              "      <td>92</td>\n",
              "      <td>304</td>\n",
              "      <td>2501.0</td>\n",
              "      <td>932515.0</td>\n",
              "    </tr>\n",
              "    <tr>\n",
              "      <th>1</th>\n",
              "      <td>3304557138</td>\n",
              "      <td>Acari</td>\n",
              "      <td>27564</td>\n",
              "      <td>5131</td>\n",
              "      <td>2188</td>\n",
              "      <td>2697</td>\n",
              "      <td>2630</td>\n",
              "      <td>4810</td>\n",
              "      <td>5308</td>\n",
              "      <td>2403</td>\n",
              "      <td>2397</td>\n",
              "      <td>0</td>\n",
              "      <td>0</td>\n",
              "      <td>82</td>\n",
              "      <td>506</td>\n",
              "      <td>2040</td>\n",
              "      <td>2490</td>\n",
              "      <td>827</td>\n",
              "      <td>2506</td>\n",
              "      <td>931.0</td>\n",
              "      <td>588833.0</td>\n",
              "    </tr>\n",
              "    <tr>\n",
              "      <th>2</th>\n",
              "      <td>3304557057</td>\n",
              "      <td>Água Santa</td>\n",
              "      <td>9003</td>\n",
              "      <td>883</td>\n",
              "      <td>399</td>\n",
              "      <td>597</td>\n",
              "      <td>762</td>\n",
              "      <td>1755</td>\n",
              "      <td>2076</td>\n",
              "      <td>1112</td>\n",
              "      <td>1419</td>\n",
              "      <td>0</td>\n",
              "      <td>96</td>\n",
              "      <td>404</td>\n",
              "      <td>652</td>\n",
              "      <td>644</td>\n",
              "      <td>522</td>\n",
              "      <td>77</td>\n",
              "      <td>254</td>\n",
              "      <td>2391.0</td>\n",
              "      <td>874200.0</td>\n",
              "    </tr>\n",
              "    <tr>\n",
              "      <th>3</th>\n",
              "      <td>3304557031</td>\n",
              "      <td>Alto Da Boa Vista</td>\n",
              "      <td>9606</td>\n",
              "      <td>1072</td>\n",
              "      <td>538</td>\n",
              "      <td>660</td>\n",
              "      <td>685</td>\n",
              "      <td>1317</td>\n",
              "      <td>2007</td>\n",
              "      <td>1341</td>\n",
              "      <td>1986</td>\n",
              "      <td>114</td>\n",
              "      <td>178</td>\n",
              "      <td>393</td>\n",
              "      <td>517</td>\n",
              "      <td>945</td>\n",
              "      <td>584</td>\n",
              "      <td>137</td>\n",
              "      <td>286</td>\n",
              "      <td>3727.0</td>\n",
              "      <td>912226.0</td>\n",
              "    </tr>\n",
              "    <tr>\n",
              "      <th>4</th>\n",
              "      <td>3304557125</td>\n",
              "      <td>Anchieta</td>\n",
              "      <td>57222</td>\n",
              "      <td>7677</td>\n",
              "      <td>3774</td>\n",
              "      <td>4892</td>\n",
              "      <td>4600</td>\n",
              "      <td>8660</td>\n",
              "      <td>12272</td>\n",
              "      <td>7157</td>\n",
              "      <td>8190</td>\n",
              "      <td>0</td>\n",
              "      <td>0</td>\n",
              "      <td>1089</td>\n",
              "      <td>2821</td>\n",
              "      <td>5110</td>\n",
              "      <td>5422</td>\n",
              "      <td>1073</td>\n",
              "      <td>3261</td>\n",
              "      <td>1380.0</td>\n",
              "      <td>553020.0</td>\n",
              "    </tr>\n",
              "  </tbody>\n",
              "</table>\n",
              "</div>"
            ],
            "text/plain": [
              "       codigo               nome  ...  rendaMedia  faturamento\n",
              "0  3304557060           Abolição  ...      2501.0     932515.0\n",
              "1  3304557138              Acari  ...       931.0     588833.0\n",
              "2  3304557057         Água Santa  ...      2391.0     874200.0\n",
              "3  3304557031  Alto Da Boa Vista  ...      3727.0     912226.0\n",
              "4  3304557125           Anchieta  ...      1380.0     553020.0\n",
              "\n",
              "[5 rows x 21 columns]"
            ]
          },
          "metadata": {
            "tags": []
          },
          "execution_count": 74
        }
      ]
    },
    {
      "cell_type": "code",
      "metadata": {
        "colab": {
          "base_uri": "https://localhost:8080/"
        },
        "id": "BKhymBCATu0p",
        "outputId": "0b799009-08de-4316-efd9-065970cfc5ae"
      },
      "source": [
        "# removendo features sem importância para treinamento de modelo\n",
        "dados_modelo = dados.drop(columns=['codigo', 'nome'])\n",
        "dados_modelo"
      ],
      "execution_count": null,
      "outputs": [
        {
          "output_type": "execute_result",
          "data": {
            "text/html": [
              "<div>\n",
              "<style scoped>\n",
              "    .dataframe tbody tr th:only-of-type {\n",
              "        vertical-align: middle;\n",
              "    }\n",
              "\n",
              "    .dataframe tbody tr th {\n",
              "        vertical-align: top;\n",
              "    }\n",
              "\n",
              "    .dataframe thead th {\n",
              "        text-align: right;\n",
              "    }\n",
              "</style>\n",
              "<table border=\"1\" class=\"dataframe\">\n",
              "  <thead>\n",
              "    <tr style=\"text-align: right;\">\n",
              "      <th></th>\n",
              "      <th>população</th>\n",
              "      <th>popAte9</th>\n",
              "      <th>popDe10a14</th>\n",
              "      <th>popDe15a19</th>\n",
              "      <th>popDe20a24</th>\n",
              "      <th>popDe25a34</th>\n",
              "      <th>popDe35a49</th>\n",
              "      <th>popDe50a59</th>\n",
              "      <th>popMaisDe60</th>\n",
              "      <th>domiciliosA1</th>\n",
              "      <th>domiciliosA2</th>\n",
              "      <th>domiciliosB1</th>\n",
              "      <th>domiciliosB2</th>\n",
              "      <th>domiciliosC1</th>\n",
              "      <th>domiciliosC2</th>\n",
              "      <th>domiciliosD</th>\n",
              "      <th>domiciliosE</th>\n",
              "      <th>rendaMedia</th>\n",
              "      <th>faturamento</th>\n",
              "    </tr>\n",
              "  </thead>\n",
              "  <tbody>\n",
              "    <tr>\n",
              "      <th>0</th>\n",
              "      <td>11676</td>\n",
              "      <td>1027</td>\n",
              "      <td>483</td>\n",
              "      <td>688</td>\n",
              "      <td>800</td>\n",
              "      <td>1675</td>\n",
              "      <td>2300</td>\n",
              "      <td>1784</td>\n",
              "      <td>2919</td>\n",
              "      <td>0</td>\n",
              "      <td>145</td>\n",
              "      <td>715</td>\n",
              "      <td>1242</td>\n",
              "      <td>1093</td>\n",
              "      <td>758</td>\n",
              "      <td>92</td>\n",
              "      <td>304</td>\n",
              "      <td>2501.0</td>\n",
              "      <td>932515.0</td>\n",
              "    </tr>\n",
              "    <tr>\n",
              "      <th>1</th>\n",
              "      <td>27564</td>\n",
              "      <td>5131</td>\n",
              "      <td>2188</td>\n",
              "      <td>2697</td>\n",
              "      <td>2630</td>\n",
              "      <td>4810</td>\n",
              "      <td>5308</td>\n",
              "      <td>2403</td>\n",
              "      <td>2397</td>\n",
              "      <td>0</td>\n",
              "      <td>0</td>\n",
              "      <td>82</td>\n",
              "      <td>506</td>\n",
              "      <td>2040</td>\n",
              "      <td>2490</td>\n",
              "      <td>827</td>\n",
              "      <td>2506</td>\n",
              "      <td>931.0</td>\n",
              "      <td>588833.0</td>\n",
              "    </tr>\n",
              "    <tr>\n",
              "      <th>2</th>\n",
              "      <td>9003</td>\n",
              "      <td>883</td>\n",
              "      <td>399</td>\n",
              "      <td>597</td>\n",
              "      <td>762</td>\n",
              "      <td>1755</td>\n",
              "      <td>2076</td>\n",
              "      <td>1112</td>\n",
              "      <td>1419</td>\n",
              "      <td>0</td>\n",
              "      <td>96</td>\n",
              "      <td>404</td>\n",
              "      <td>652</td>\n",
              "      <td>644</td>\n",
              "      <td>522</td>\n",
              "      <td>77</td>\n",
              "      <td>254</td>\n",
              "      <td>2391.0</td>\n",
              "      <td>874200.0</td>\n",
              "    </tr>\n",
              "    <tr>\n",
              "      <th>3</th>\n",
              "      <td>9606</td>\n",
              "      <td>1072</td>\n",
              "      <td>538</td>\n",
              "      <td>660</td>\n",
              "      <td>685</td>\n",
              "      <td>1317</td>\n",
              "      <td>2007</td>\n",
              "      <td>1341</td>\n",
              "      <td>1986</td>\n",
              "      <td>114</td>\n",
              "      <td>178</td>\n",
              "      <td>393</td>\n",
              "      <td>517</td>\n",
              "      <td>945</td>\n",
              "      <td>584</td>\n",
              "      <td>137</td>\n",
              "      <td>286</td>\n",
              "      <td>3727.0</td>\n",
              "      <td>912226.0</td>\n",
              "    </tr>\n",
              "    <tr>\n",
              "      <th>4</th>\n",
              "      <td>57222</td>\n",
              "      <td>7677</td>\n",
              "      <td>3774</td>\n",
              "      <td>4892</td>\n",
              "      <td>4600</td>\n",
              "      <td>8660</td>\n",
              "      <td>12272</td>\n",
              "      <td>7157</td>\n",
              "      <td>8190</td>\n",
              "      <td>0</td>\n",
              "      <td>0</td>\n",
              "      <td>1089</td>\n",
              "      <td>2821</td>\n",
              "      <td>5110</td>\n",
              "      <td>5422</td>\n",
              "      <td>1073</td>\n",
              "      <td>3261</td>\n",
              "      <td>1380.0</td>\n",
              "      <td>553020.0</td>\n",
              "    </tr>\n",
              "    <tr>\n",
              "      <th>...</th>\n",
              "      <td>...</td>\n",
              "      <td>...</td>\n",
              "      <td>...</td>\n",
              "      <td>...</td>\n",
              "      <td>...</td>\n",
              "      <td>...</td>\n",
              "      <td>...</td>\n",
              "      <td>...</td>\n",
              "      <td>...</td>\n",
              "      <td>...</td>\n",
              "      <td>...</td>\n",
              "      <td>...</td>\n",
              "      <td>...</td>\n",
              "      <td>...</td>\n",
              "      <td>...</td>\n",
              "      <td>...</td>\n",
              "      <td>...</td>\n",
              "      <td>...</td>\n",
              "      <td>...</td>\n",
              "    </tr>\n",
              "    <tr>\n",
              "      <th>155</th>\n",
              "      <td>18791</td>\n",
              "      <td>1802</td>\n",
              "      <td>921</td>\n",
              "      <td>1442</td>\n",
              "      <td>1462</td>\n",
              "      <td>2500</td>\n",
              "      <td>3944</td>\n",
              "      <td>2920</td>\n",
              "      <td>3800</td>\n",
              "      <td>0</td>\n",
              "      <td>259</td>\n",
              "      <td>774</td>\n",
              "      <td>1363</td>\n",
              "      <td>1923</td>\n",
              "      <td>1379</td>\n",
              "      <td>190</td>\n",
              "      <td>405</td>\n",
              "      <td>2316.0</td>\n",
              "      <td>901446.0</td>\n",
              "    </tr>\n",
              "    <tr>\n",
              "      <th>156</th>\n",
              "      <td>13556</td>\n",
              "      <td>1888</td>\n",
              "      <td>787</td>\n",
              "      <td>1042</td>\n",
              "      <td>982</td>\n",
              "      <td>2542</td>\n",
              "      <td>2908</td>\n",
              "      <td>1528</td>\n",
              "      <td>1879</td>\n",
              "      <td>0</td>\n",
              "      <td>219</td>\n",
              "      <td>714</td>\n",
              "      <td>828</td>\n",
              "      <td>1051</td>\n",
              "      <td>1012</td>\n",
              "      <td>116</td>\n",
              "      <td>465</td>\n",
              "      <td>2416.0</td>\n",
              "      <td>849731.0</td>\n",
              "    </tr>\n",
              "    <tr>\n",
              "      <th>157</th>\n",
              "      <td>33190</td>\n",
              "      <td>3166</td>\n",
              "      <td>1619</td>\n",
              "      <td>2255</td>\n",
              "      <td>2326</td>\n",
              "      <td>4752</td>\n",
              "      <td>7183</td>\n",
              "      <td>4950</td>\n",
              "      <td>6939</td>\n",
              "      <td>0</td>\n",
              "      <td>906</td>\n",
              "      <td>2866</td>\n",
              "      <td>2241</td>\n",
              "      <td>2982</td>\n",
              "      <td>1200</td>\n",
              "      <td>360</td>\n",
              "      <td>772</td>\n",
              "      <td>3189.0</td>\n",
              "      <td>1127042.0</td>\n",
              "    </tr>\n",
              "    <tr>\n",
              "      <th>158</th>\n",
              "      <td>8867</td>\n",
              "      <td>724</td>\n",
              "      <td>387</td>\n",
              "      <td>580</td>\n",
              "      <td>565</td>\n",
              "      <td>1205</td>\n",
              "      <td>1812</td>\n",
              "      <td>1474</td>\n",
              "      <td>2120</td>\n",
              "      <td>0</td>\n",
              "      <td>87</td>\n",
              "      <td>556</td>\n",
              "      <td>836</td>\n",
              "      <td>940</td>\n",
              "      <td>484</td>\n",
              "      <td>75</td>\n",
              "      <td>214</td>\n",
              "      <td>2418.0</td>\n",
              "      <td>921875.0</td>\n",
              "    </tr>\n",
              "    <tr>\n",
              "      <th>159</th>\n",
              "      <td>2072</td>\n",
              "      <td>175</td>\n",
              "      <td>74</td>\n",
              "      <td>120</td>\n",
              "      <td>121</td>\n",
              "      <td>318</td>\n",
              "      <td>417</td>\n",
              "      <td>314</td>\n",
              "      <td>533</td>\n",
              "      <td>0</td>\n",
              "      <td>89</td>\n",
              "      <td>234</td>\n",
              "      <td>177</td>\n",
              "      <td>147</td>\n",
              "      <td>72</td>\n",
              "      <td>10</td>\n",
              "      <td>47</td>\n",
              "      <td>3791.0</td>\n",
              "      <td>919451.0</td>\n",
              "    </tr>\n",
              "  </tbody>\n",
              "</table>\n",
              "<p>154 rows × 19 columns</p>\n",
              "</div>"
            ],
            "text/plain": [
              "     população  popAte9  popDe10a14  ...  domiciliosE  rendaMedia  faturamento\n",
              "0        11676     1027         483  ...          304      2501.0     932515.0\n",
              "1        27564     5131        2188  ...         2506       931.0     588833.0\n",
              "2         9003      883         399  ...          254      2391.0     874200.0\n",
              "3         9606     1072         538  ...          286      3727.0     912226.0\n",
              "4        57222     7677        3774  ...         3261      1380.0     553020.0\n",
              "..         ...      ...         ...  ...          ...         ...          ...\n",
              "155      18791     1802         921  ...          405      2316.0     901446.0\n",
              "156      13556     1888         787  ...          465      2416.0     849731.0\n",
              "157      33190     3166        1619  ...          772      3189.0    1127042.0\n",
              "158       8867      724         387  ...          214      2418.0     921875.0\n",
              "159       2072      175          74  ...           47      3791.0     919451.0\n",
              "\n",
              "[154 rows x 19 columns]"
            ]
          },
          "metadata": {
            "tags": []
          },
          "execution_count": 75
        }
      ]
    },
    {
      "cell_type": "code",
      "metadata": {
        "colab": {
          "base_uri": "https://localhost:8080/"
        },
        "id": "sRjcdVaeT8Lp",
        "outputId": "ecba4ad5-f823-4244-a12e-0b6c7902939c"
      },
      "source": [
        "# preparando X\n",
        "X = dados_modelo.drop(columns=['faturamento'])\n",
        "X.head()"
      ],
      "execution_count": null,
      "outputs": [
        {
          "output_type": "execute_result",
          "data": {
            "text/html": [
              "<div>\n",
              "<style scoped>\n",
              "    .dataframe tbody tr th:only-of-type {\n",
              "        vertical-align: middle;\n",
              "    }\n",
              "\n",
              "    .dataframe tbody tr th {\n",
              "        vertical-align: top;\n",
              "    }\n",
              "\n",
              "    .dataframe thead th {\n",
              "        text-align: right;\n",
              "    }\n",
              "</style>\n",
              "<table border=\"1\" class=\"dataframe\">\n",
              "  <thead>\n",
              "    <tr style=\"text-align: right;\">\n",
              "      <th></th>\n",
              "      <th>população</th>\n",
              "      <th>popAte9</th>\n",
              "      <th>popDe10a14</th>\n",
              "      <th>popDe15a19</th>\n",
              "      <th>popDe20a24</th>\n",
              "      <th>popDe25a34</th>\n",
              "      <th>popDe35a49</th>\n",
              "      <th>popDe50a59</th>\n",
              "      <th>popMaisDe60</th>\n",
              "      <th>domiciliosA1</th>\n",
              "      <th>domiciliosA2</th>\n",
              "      <th>domiciliosB1</th>\n",
              "      <th>domiciliosB2</th>\n",
              "      <th>domiciliosC1</th>\n",
              "      <th>domiciliosC2</th>\n",
              "      <th>domiciliosD</th>\n",
              "      <th>domiciliosE</th>\n",
              "      <th>rendaMedia</th>\n",
              "    </tr>\n",
              "  </thead>\n",
              "  <tbody>\n",
              "    <tr>\n",
              "      <th>0</th>\n",
              "      <td>11676</td>\n",
              "      <td>1027</td>\n",
              "      <td>483</td>\n",
              "      <td>688</td>\n",
              "      <td>800</td>\n",
              "      <td>1675</td>\n",
              "      <td>2300</td>\n",
              "      <td>1784</td>\n",
              "      <td>2919</td>\n",
              "      <td>0</td>\n",
              "      <td>145</td>\n",
              "      <td>715</td>\n",
              "      <td>1242</td>\n",
              "      <td>1093</td>\n",
              "      <td>758</td>\n",
              "      <td>92</td>\n",
              "      <td>304</td>\n",
              "      <td>2501.0</td>\n",
              "    </tr>\n",
              "    <tr>\n",
              "      <th>1</th>\n",
              "      <td>27564</td>\n",
              "      <td>5131</td>\n",
              "      <td>2188</td>\n",
              "      <td>2697</td>\n",
              "      <td>2630</td>\n",
              "      <td>4810</td>\n",
              "      <td>5308</td>\n",
              "      <td>2403</td>\n",
              "      <td>2397</td>\n",
              "      <td>0</td>\n",
              "      <td>0</td>\n",
              "      <td>82</td>\n",
              "      <td>506</td>\n",
              "      <td>2040</td>\n",
              "      <td>2490</td>\n",
              "      <td>827</td>\n",
              "      <td>2506</td>\n",
              "      <td>931.0</td>\n",
              "    </tr>\n",
              "    <tr>\n",
              "      <th>2</th>\n",
              "      <td>9003</td>\n",
              "      <td>883</td>\n",
              "      <td>399</td>\n",
              "      <td>597</td>\n",
              "      <td>762</td>\n",
              "      <td>1755</td>\n",
              "      <td>2076</td>\n",
              "      <td>1112</td>\n",
              "      <td>1419</td>\n",
              "      <td>0</td>\n",
              "      <td>96</td>\n",
              "      <td>404</td>\n",
              "      <td>652</td>\n",
              "      <td>644</td>\n",
              "      <td>522</td>\n",
              "      <td>77</td>\n",
              "      <td>254</td>\n",
              "      <td>2391.0</td>\n",
              "    </tr>\n",
              "    <tr>\n",
              "      <th>3</th>\n",
              "      <td>9606</td>\n",
              "      <td>1072</td>\n",
              "      <td>538</td>\n",
              "      <td>660</td>\n",
              "      <td>685</td>\n",
              "      <td>1317</td>\n",
              "      <td>2007</td>\n",
              "      <td>1341</td>\n",
              "      <td>1986</td>\n",
              "      <td>114</td>\n",
              "      <td>178</td>\n",
              "      <td>393</td>\n",
              "      <td>517</td>\n",
              "      <td>945</td>\n",
              "      <td>584</td>\n",
              "      <td>137</td>\n",
              "      <td>286</td>\n",
              "      <td>3727.0</td>\n",
              "    </tr>\n",
              "    <tr>\n",
              "      <th>4</th>\n",
              "      <td>57222</td>\n",
              "      <td>7677</td>\n",
              "      <td>3774</td>\n",
              "      <td>4892</td>\n",
              "      <td>4600</td>\n",
              "      <td>8660</td>\n",
              "      <td>12272</td>\n",
              "      <td>7157</td>\n",
              "      <td>8190</td>\n",
              "      <td>0</td>\n",
              "      <td>0</td>\n",
              "      <td>1089</td>\n",
              "      <td>2821</td>\n",
              "      <td>5110</td>\n",
              "      <td>5422</td>\n",
              "      <td>1073</td>\n",
              "      <td>3261</td>\n",
              "      <td>1380.0</td>\n",
              "    </tr>\n",
              "  </tbody>\n",
              "</table>\n",
              "</div>"
            ],
            "text/plain": [
              "   população  popAte9  popDe10a14  ...  domiciliosD  domiciliosE  rendaMedia\n",
              "0      11676     1027         483  ...           92          304      2501.0\n",
              "1      27564     5131        2188  ...          827         2506       931.0\n",
              "2       9003      883         399  ...           77          254      2391.0\n",
              "3       9606     1072         538  ...          137          286      3727.0\n",
              "4      57222     7677        3774  ...         1073         3261      1380.0\n",
              "\n",
              "[5 rows x 18 columns]"
            ]
          },
          "metadata": {
            "tags": []
          },
          "execution_count": 76
        }
      ]
    },
    {
      "cell_type": "code",
      "metadata": {
        "colab": {
          "base_uri": "https://localhost:8080/"
        },
        "id": "d5wqD8uHUH5R",
        "outputId": "04b9cb78-028d-481b-dd35-2fbc7c505eee"
      },
      "source": [
        "# preparando y\n",
        "y = dados_modelo['faturamento']\n",
        "y.head()"
      ],
      "execution_count": null,
      "outputs": [
        {
          "output_type": "execute_result",
          "data": {
            "text/plain": [
              "0    932515.0\n",
              "1    588833.0\n",
              "2    874200.0\n",
              "3    912226.0\n",
              "4    553020.0\n",
              "Name: faturamento, dtype: float64"
            ]
          },
          "metadata": {
            "tags": []
          },
          "execution_count": 77
        }
      ]
    },
    {
      "cell_type": "markdown",
      "metadata": {
        "id": "ESygUYWOTJa6"
      },
      "source": [
        "## Criando e testando modelos "
      ]
    },
    {
      "cell_type": "markdown",
      "metadata": {
        "id": "fkRr1fyIVdOJ"
      },
      "source": [
        "Irei usar 3 modelos que eu vejo como os melhores para o problema de regressão do case.\n",
        "\n",
        "Os modelos:\n",
        "*   Árvore de Decisão (Decision Tree)\n",
        "*   Random Forest\n",
        "*   Regressão Linear\n",
        "\n",
        "Esses algoritmos serão usados para a versão de regressão, com a biblioteca scikit-learn.\n",
        "\n",
        "\n",
        "\n",
        "\n"
      ]
    },
    {
      "cell_type": "markdown",
      "metadata": {
        "id": "pEP7ZKUgxcnR"
      },
      "source": [
        "### Método Holdout"
      ]
    },
    {
      "cell_type": "markdown",
      "metadata": {
        "id": "vmNhB_qwCedN"
      },
      "source": [
        "#### Preparando dados"
      ]
    },
    {
      "cell_type": "code",
      "metadata": {
        "id": "zdfw6nwNUiyR"
      },
      "source": [
        "# separando conjunto de teste e conjunto de treino com a feature de idades (método holdout)\n",
        "X_train, X_test, y_train, y_test = train_test_split(X,y, test_size=0.2)"
      ],
      "execution_count": null,
      "outputs": []
    },
    {
      "cell_type": "code",
      "metadata": {
        "id": "xSBIRThFybDU"
      },
      "source": [
        "# separando conjunto de testes sem a feature de idades\n",
        "X_train2 = X_train[['população', 'domiciliosA1', 'domiciliosA2', 'domiciliosB1', 'domiciliosB2', 'domiciliosC1', 'domiciliosC2', 'domiciliosD', 'domiciliosE', 'rendaMedia']]\n",
        "X_test2 = X_test[['população', 'domiciliosA1', 'domiciliosA2', 'domiciliosB1', 'domiciliosB2', 'domiciliosC1', 'domiciliosC2', 'domiciliosD', 'domiciliosE', 'rendaMedia']]"
      ],
      "execution_count": null,
      "outputs": []
    },
    {
      "cell_type": "markdown",
      "metadata": {
        "id": "WmX3J8K2WDj5"
      },
      "source": [
        "#### Treinando e fazendo previsões"
      ]
    },
    {
      "cell_type": "code",
      "metadata": {
        "id": "keNJbUcDTfcB"
      },
      "source": [
        "# definindo modelo de regressão linear (com features de idade)\n",
        "linear1 = LinearRegression()\n",
        "linear1.fit(X_train,y_train)\n",
        "pred_linear1 = linear1.predict(X_test)"
      ],
      "execution_count": null,
      "outputs": []
    },
    {
      "cell_type": "code",
      "metadata": {
        "id": "NtaS5NJoyPyw"
      },
      "source": [
        "# definindo modelo de regressão linear (sem features de idade)\n",
        "linear2 = LinearRegression()\n",
        "linear2.fit(X_train2,y_train)\n",
        "pred_linear2 = linear2.predict(X_test2)"
      ],
      "execution_count": null,
      "outputs": []
    },
    {
      "cell_type": "code",
      "metadata": {
        "colab": {
          "base_uri": "https://localhost:8080/",
          "height": 336
        },
        "id": "BDpC6rQMUle6",
        "outputId": "c50b6b32-1375-47bb-9b77-a6aa67395628"
      },
      "source": [
        "# plotando resultados da MLP\n",
        "\n",
        "plt.figure(figsize=(15.5,5)) \n",
        "\n",
        "plt.subplot(1, 2, 1)\n",
        "plt.plot(y_test.reset_index(drop=True),label='real')\n",
        "plt.plot(pred_linear1,label='preditor')\n",
        "plt.legend()\n",
        "plt.title('Previsão com regressão linear (com features de idade)')\n",
        "\n",
        "plt.subplot(1, 2, 2)\n",
        "plt.plot(y_test.reset_index(drop=True),label='real')\n",
        "plt.plot(pred_linear2,label='preditor')\n",
        "plt.legend()\n",
        "plt.title('Previsão com regressão linear (sem features de idade)')\n",
        "\n",
        "plt.show()"
      ],
      "execution_count": null,
      "outputs": [
        {
          "output_type": "display_data",
          "data": {
            "image/png": "[encoded data removed]",
            "text/plain": [
              "<Figure size 1116x360 with 2 Axes>"
            ]
          },
          "metadata": {
            "tags": [],
            "needs_background": "light"
          }
        }
      ]
    },
    {
      "cell_type": "code",
      "metadata": {
        "id": "W4j2n8-1Us4K"
      },
      "source": [
        "# definindo modelo de árvore de decisão (com features de idade)\n",
        "arvore1 = DecisionTreeRegressor()\n",
        "arvore1.fit(X_train,y_train)\n",
        "pred_arvore1 = arvore1.predict(X_test)"
      ],
      "execution_count": null,
      "outputs": []
    },
    {
      "cell_type": "code",
      "metadata": {
        "id": "eTstqTlw08uU"
      },
      "source": [
        "# definindo modelo de árvore de decisão (sem features de idade)\n",
        "arvore2 = DecisionTreeRegressor()\n",
        "arvore2.fit(X_train2,y_train)\n",
        "pred_arvore2 = arvore2.predict(X_test2)"
      ],
      "execution_count": null,
      "outputs": []
    },
    {
      "cell_type": "code",
      "metadata": {
        "colab": {
          "base_uri": "https://localhost:8080/",
          "height": 336
        },
        "id": "eR_o0oxEUvGr",
        "outputId": "9865aaf6-73fb-4300-a24a-c0da2fbdb207"
      },
      "source": [
        "# plotando resultados da árvore de decisão\n",
        "\n",
        "plt.figure(figsize=(15.5,5)) \n",
        "\n",
        "\n",
        "plt.subplot(1, 2, 1) \n",
        "plt.plot(y_test.reset_index(drop=True),label='real')\n",
        "plt.plot(pred_arvore1,label='preditor')\n",
        "plt.legend()\n",
        "plt.title('Previsão com árvore de decisão (com features de idade)')\n",
        "\n",
        "\n",
        "plt.subplot(1, 2, 2) \n",
        "plt.plot(y_test.reset_index(drop=True),label='real')\n",
        "plt.plot(pred_arvore2,label='preditor')\n",
        "plt.legend()\n",
        "plt.title('Previsão com árvore de decisão (sem features de idade)')\n",
        "\n",
        "plt.show()"
      ],
      "execution_count": null,
      "outputs": [
        {
          "output_type": "display_data",
          "data": {
            "image/png": "[encoded data removed]",
            "text/plain": [
              "<Figure size 1116x360 with 2 Axes>"
            ]
          },
          "metadata": {
            "tags": [],
            "needs_background": "light"
          }
        }
      ]
    },
    {
      "cell_type": "code",
      "metadata": {
        "id": "6OqMRVNRU2Ux"
      },
      "source": [
        "# definindo modelo de random forest (com features de idade)\n",
        "floresta1 = RandomForestRegressor(n_estimators=150)\n",
        "floresta1.fit(X_train,y_train)\n",
        "pred_floresta1 = floresta1.predict(X_test)"
      ],
      "execution_count": null,
      "outputs": []
    },
    {
      "cell_type": "code",
      "metadata": {
        "id": "Z1Oyc4K02M88"
      },
      "source": [
        "# definindo modelo de random forest (sem features de idade)\n",
        "floresta2 = RandomForestRegressor(n_estimators=150)\n",
        "floresta2.fit(X_train2,y_train)\n",
        "pred_floresta2 = floresta2.predict(X_test2)"
      ],
      "execution_count": null,
      "outputs": []
    },
    {
      "cell_type": "code",
      "metadata": {
        "colab": {
          "base_uri": "https://localhost:8080/",
          "height": 336
        },
        "id": "KXzACWyJU3aR",
        "outputId": "e5b02ada-24ca-4f2a-92ea-6a1efc41ff98"
      },
      "source": [
        "# plotando resultados da random forest\n",
        "\n",
        "plt.figure(figsize=(15.5,5)) \n",
        "\n",
        "\n",
        "plt.subplot(1, 2, 1) \n",
        "plt.plot(y_test.reset_index(drop=True),label='real')\n",
        "plt.plot(pred_floresta1,label='preditor')\n",
        "plt.legend()\n",
        "plt.title('Previsão com random forest (com features de idade)')\n",
        "\n",
        "\n",
        "plt.subplot(1, 2, 2) \n",
        "plt.plot(y_test.reset_index(drop=True),label='real')\n",
        "plt.plot(pred_floresta2,label='preditor')\n",
        "plt.legend()\n",
        "plt.title('Previsão com random forest (sem features de idade)')\n",
        "\n",
        "plt.show()"
      ],
      "execution_count": null,
      "outputs": [
        {
          "output_type": "display_data",
          "data": {
            "image/png": "[encoded data removed]",
            "text/plain": [
              "<Figure size 1116x360 with 2 Axes>"
            ]
          },
          "metadata": {
            "tags": [],
            "needs_background": "light"
          }
        }
      ]
    },
    {
      "cell_type": "markdown",
      "metadata": {
        "id": "5AgL-RUrWI-Z"
      },
      "source": [
        "#### Testando modelos"
      ]
    },
    {
      "cell_type": "markdown",
      "metadata": {
        "id": "0ynKoz0RCoad"
      },
      "source": [
        "Os testes usados nos modelos são:\n",
        "\n",
        "\n",
        "\n",
        "*   Mean Absolute Error (MAE)\n",
        "*   Mean Squared Error (MSE)\n",
        "*   Root Mean Squared Error (RMSE)\n",
        "\n",
        "O resultado desses testes podem ser interpretado como: quanto mais próximo de 0 é o valor, melhor.\n",
        "\n"
      ]
    },
    {
      "cell_type": "markdown",
      "metadata": {
        "id": "YZ-AUd9xWSSa"
      },
      "source": [
        "##### Mean Absolute Error (MAE)\n"
      ]
    },
    {
      "cell_type": "code",
      "metadata": {
        "id": "R4PqajnOWLlC"
      },
      "source": [
        "# MAE Linear\n",
        "mael1, mael2 = mean_absolute_error(y_test,pred_linear1), mean_absolute_error(y_test,pred_linear2)"
      ],
      "execution_count": null,
      "outputs": []
    },
    {
      "cell_type": "code",
      "metadata": {
        "id": "jrZ0YlngWQEK"
      },
      "source": [
        "# MAE Árvore\n",
        "maea1, maea2 = mean_absolute_error(y_test,pred_arvore1), mean_absolute_error(y_test,pred_arvore2)"
      ],
      "execution_count": null,
      "outputs": []
    },
    {
      "cell_type": "code",
      "metadata": {
        "id": "V0SRZt0hYA_i"
      },
      "source": [
        "# Mae Random Forest\n",
        "maer1, maer2 = mean_absolute_error(y_test,pred_floresta1), mean_absolute_error(y_test,pred_floresta2)"
      ],
      "execution_count": null,
      "outputs": []
    },
    {
      "cell_type": "code",
      "metadata": {
        "colab": {
          "base_uri": "https://localhost:8080/",
          "height": 405
        },
        "id": "vH-zycCe8gzM",
        "outputId": "6bdce0b2-20b3-4613-9d38-303845badd14"
      },
      "source": [
        "#  para instalar nova versão do pyplot no colab e usar bar_label\n",
        "# !pip install matplotlib==3.4.2 \n",
        "\n",
        "import matplotlib.pyplot as plt \n",
        "\n",
        "\n",
        "labels = ['Linear', 'Tree', 'Forest']\n",
        "mae_com_idade = [mael1, maea1, maer1]\n",
        "mae_sem_idade = [mael2, maea2, maer2]\n",
        "\n",
        "x = np.arange(len(labels))  # the label locations\n",
        "width = 0.35  # the width of the bars\n",
        "\n",
        "fig, ax = plt.subplots(figsize=(10.5,5.5))\n",
        "rects1 = ax.bar(x - width/2, mae_com_idade, width, label='com idade')\n",
        "rects2 = ax.bar(x + width/2, mae_sem_idade, width, label='sem idade')\n",
        "\n",
        "# Add some text for labels, title and custom x-axis tick labels, etc.\n",
        "ax.set_ylabel('Scores')\n",
        "ax.set_title('Scores MSE')\n",
        "ax.set_xticks(x)\n",
        "ax.set_xticklabels(labels)\n",
        "ax.legend()\n",
        "\n",
        "ax.bar_label(rects1, padding=3)\n",
        "ax.bar_label(rects2, padding=3)\n",
        "\n",
        "fig.tight_layout()\n",
        "\n",
        "plt.show()"
      ],
      "execution_count": null,
      "outputs": [
        {
          "output_type": "display_data",
          "data": {
            "image/png": "[encoded data removed]",
            "text/plain": [
              "<Figure size 756x396 with 1 Axes>"
            ]
          },
          "metadata": {
            "tags": [],
            "needs_background": "light"
          }
        }
      ]
    },
    {
      "cell_type": "markdown",
      "metadata": {
        "id": "MwI2ekagcYTi"
      },
      "source": [
        "##### Mean Squared Error (MSE)\n"
      ]
    },
    {
      "cell_type": "code",
      "metadata": {
        "id": "3nf0G-XbccH7"
      },
      "source": [
        "# MSE linear\n",
        "msel1, msel2 = mean_squared_error(y_test,pred_linear1), mean_squared_error(y_test,pred_linear2)"
      ],
      "execution_count": null,
      "outputs": []
    },
    {
      "cell_type": "code",
      "metadata": {
        "id": "ildSVhHQcd3C"
      },
      "source": [
        "# MSE arvore\n",
        "msea1, msea2 = mean_squared_error(y_test,pred_arvore1), mean_squared_error(y_test,pred_arvore2)"
      ],
      "execution_count": null,
      "outputs": []
    },
    {
      "cell_type": "code",
      "metadata": {
        "id": "PWhcJ5iKcftU"
      },
      "source": [
        "# MSE random forest\n",
        "mser1, mser2 = mean_squared_error(y_test,pred_floresta1), mean_squared_error(y_test,pred_floresta2)"
      ],
      "execution_count": null,
      "outputs": []
    },
    {
      "cell_type": "code",
      "metadata": {
        "colab": {
          "base_uri": "https://localhost:8080/",
          "height": 405
        },
        "id": "riMjKb9D7BQN",
        "outputId": "d11b086d-f633-4ac5-cb12-d947ce40cc75"
      },
      "source": [
        "#  para instalar nova versão do pyplot no colab e usar bar_label\n",
        "# !pip install matplotlib==3.4.2 \n",
        "\n",
        "import matplotlib.pyplot as plt \n",
        "\n",
        "\n",
        "labels = ['Linear', 'Tree', 'Forest']\n",
        "mse_com_idade = [msel1, msea1, mser1]\n",
        "mse_sem_idade = [msel2, msea2, mser2]\n",
        "\n",
        "x = np.arange(len(labels))  # the label locations\n",
        "width = 0.35  # the width of the bars\n",
        "\n",
        "fig, ax = plt.subplots(figsize=(10.5,5.5))\n",
        "rects1 = ax.bar(x - width/2, mse_com_idade, width, label='com idade')\n",
        "rects2 = ax.bar(x + width/2, mse_sem_idade, width, label='sem idade')\n",
        "\n",
        "# Add some text for labels, title and custom x-axis tick labels, etc.\n",
        "ax.set_ylabel('Scores')\n",
        "ax.set_title('Scores MSE')\n",
        "ax.set_xticks(x)\n",
        "ax.set_xticklabels(labels)\n",
        "ax.legend()\n",
        "\n",
        "ax.bar_label(rects1, padding=3)\n",
        "ax.bar_label(rects2, padding=3)\n",
        "\n",
        "fig.tight_layout()\n",
        "\n",
        "plt.show()"
      ],
      "execution_count": null,
      "outputs": [
        {
          "output_type": "display_data",
          "data": {
            "image/png": "[encoded data removed]",
            "text/plain": [
              "<Figure size 756x396 with 1 Axes>"
            ]
          },
          "metadata": {
            "tags": [],
            "needs_background": "light"
          }
        }
      ]
    },
    {
      "cell_type": "markdown",
      "metadata": {
        "id": "8964k6lJcuBt"
      },
      "source": [
        "##### Root Mean Squared Error (RMSE)"
      ]
    },
    {
      "cell_type": "code",
      "metadata": {
        "id": "FeLcDYpKc5qT"
      },
      "source": [
        "# RMSE para regressão linear\n",
        "rmsel1, rmsel2 = mean_squared_error(y_test,pred_linear1)**(1/2),  mean_squared_error(y_test,pred_linear2)**(1/2)"
      ],
      "execution_count": null,
      "outputs": []
    },
    {
      "cell_type": "code",
      "metadata": {
        "id": "gps3muMmc6Y7"
      },
      "source": [
        "# RMSE para árvore de decisão\n",
        "rmsea1, rmsea2 = mean_squared_error(y_test,pred_arvore1)**(1/2), mean_squared_error(y_test,pred_arvore2)**(1/2),"
      ],
      "execution_count": null,
      "outputs": []
    },
    {
      "cell_type": "code",
      "metadata": {
        "id": "5jbc1tkKc720"
      },
      "source": [
        "# RMSE para random forest\n",
        "rmser1, rmser2 = mean_squared_error(y_test,pred_floresta1)**(1/2),  mean_squared_error(y_test,pred_floresta2)**(1/2),"
      ],
      "execution_count": null,
      "outputs": []
    },
    {
      "cell_type": "code",
      "metadata": {
        "id": "fqem1_4Qdqz6",
        "colab": {
          "base_uri": "https://localhost:8080/",
          "height": 405
        },
        "outputId": "e38f45be-4a31-4802-c4a0-4488af067706"
      },
      "source": [
        "#  para instalar nova versão do pyplot no colab e usar bar_label\n",
        "# !pip install matplotlib==3.4.2 \n",
        "\n",
        "import matplotlib.pyplot as plt \n",
        "\n",
        "\n",
        "labels = ['Linear', 'Tree', 'Forest']\n",
        "rmse_com_idade = [rmsel1, rmsea1, rmser1]\n",
        "rmse_sem_idade = [rmsel2, rmsea2, rmser2]\n",
        "\n",
        "x = np.arange(len(labels))  # the label locations\n",
        "width = 0.35  # the width of the bars\n",
        "\n",
        "fig, ax = plt.subplots(figsize=(10.5,5.5))\n",
        "rects1 = ax.bar(x - width/2, rmse_com_idade, width, label='com idade')\n",
        "rects2 = ax.bar(x + width/2, rmse_sem_idade, width, label='sem idade')\n",
        "\n",
        "# Add some text for labels, title and custom x-axis tick labels, etc.\n",
        "ax.set_ylabel('Scores')\n",
        "ax.set_title('Scores RMSE')\n",
        "ax.set_xticks(x)\n",
        "ax.set_xticklabels(labels)\n",
        "ax.legend()\n",
        "\n",
        "ax.bar_label(rects1, padding=3)\n",
        "ax.bar_label(rects2, padding=3)\n",
        "\n",
        "fig.tight_layout()\n",
        "\n",
        "plt.show()"
      ],
      "execution_count": null,
      "outputs": [
        {
          "output_type": "display_data",
          "data": {
            "image/png": "[encoded data removed]",
            "text/plain": [
              "<Figure size 756x396 with 1 Axes>"
            ]
          },
          "metadata": {
            "tags": [],
            "needs_background": "light"
          }
        }
      ]
    },
    {
      "cell_type": "markdown",
      "metadata": {
        "id": "KRREIrzmCgqf"
      },
      "source": [
        "#### Conclusões Holdout"
      ]
    },
    {
      "cell_type": "markdown",
      "metadata": {
        "id": "J5y8WPH6CjCh"
      },
      "source": [
        "\n",
        "\n",
        "*   A hipótese de que as features de idade poderiam atrapalhar os resultados do previsor ganhou mais força. Pelos testes feitos, todos os modelos treinados sem as features de idade tiveram resultados melhores.\n",
        "*   No método holdout, o modelo mais promissor foi o de Randon Forest, trazendo resultados melhores nos dois testes, com features de idade e sem features de idade, comparados aos outros dois modelos testados, Árvore de Decisão e Regressão Linear.\n",
        "*   Apesar dos modelos terem bons resultados para os dados mais \"estáveis\", não conseguiram prever eficientemente os outliers, tanto pra cima quanto pra baixo, segundo os gráficos de resultados da previsões plotados na parte \"Treinando e fazendo previsõe\".\n",
        "*   Nos testes feitos, os resultados apresentaram certa variabilidade no método holdout, resultados de testes variando. Para ultrapassar esse problema, será feito testes no método Cross Validation que evita viés na seleção e separação dos dados. \n"
      ]
    },
    {
      "cell_type": "markdown",
      "metadata": {
        "id": "uBvccpMAFGuA"
      },
      "source": [
        "### Método de Cross Validation (Validação Cruzada)\n"
      ]
    },
    {
      "cell_type": "markdown",
      "metadata": {
        "id": "9cQAhnwgQn9n"
      },
      "source": [
        "O método de Cross Validation é necessário para evitar coisas como viés causado pela seleção de dados aleatórias com o método holdout. Por exemplo, se ao dividir os dados de X_train e y_train, os dados selecionados possuírem uma grande quantidade de dados com certa característica enquanto o X_test e y_teste não, esses dados serão mais valorizados na parte do treinamento e causarão um resultado ruim na parte dos testes. Dividindo o dataframe em várias partes e usando para treino e teste, esse tipo de cenário é evitado."
      ]
    },
    {
      "cell_type": "markdown",
      "metadata": {
        "id": "f1CcelMeJMKD"
      },
      "source": [
        "#### Preparando dados"
      ]
    },
    {
      "cell_type": "code",
      "metadata": {
        "colab": {
          "base_uri": "https://localhost:8080/",
          "height": 206
        },
        "id": "tFuf0yG8I-rm",
        "outputId": "4771be76-58e4-4548-9694-741d59fee850"
      },
      "source": [
        "# ṕreparando X2 sem as features de idade\n",
        "X2 = X[['população', 'domiciliosA1', 'domiciliosA2', 'domiciliosB1', 'domiciliosB2', 'domiciliosC1', 'domiciliosC2', 'domiciliosD', 'domiciliosE', 'rendaMedia']]\n",
        "X2.head()"
      ],
      "execution_count": null,
      "outputs": [
        {
          "output_type": "execute_result",
          "data": {
            "text/html": [
              "<div>\n",
              "<style scoped>\n",
              "    .dataframe tbody tr th:only-of-type {\n",
              "        vertical-align: middle;\n",
              "    }\n",
              "\n",
              "    .dataframe tbody tr th {\n",
              "        vertical-align: top;\n",
              "    }\n",
              "\n",
              "    .dataframe thead th {\n",
              "        text-align: right;\n",
              "    }\n",
              "</style>\n",
              "<table border=\"1\" class=\"dataframe\">\n",
              "  <thead>\n",
              "    <tr style=\"text-align: right;\">\n",
              "      <th></th>\n",
              "      <th>população</th>\n",
              "      <th>domiciliosA1</th>\n",
              "      <th>domiciliosA2</th>\n",
              "      <th>domiciliosB1</th>\n",
              "      <th>domiciliosB2</th>\n",
              "      <th>domiciliosC1</th>\n",
              "      <th>domiciliosC2</th>\n",
              "      <th>domiciliosD</th>\n",
              "      <th>domiciliosE</th>\n",
              "      <th>rendaMedia</th>\n",
              "    </tr>\n",
              "  </thead>\n",
              "  <tbody>\n",
              "    <tr>\n",
              "      <th>0</th>\n",
              "      <td>11676</td>\n",
              "      <td>0</td>\n",
              "      <td>145</td>\n",
              "      <td>715</td>\n",
              "      <td>1242</td>\n",
              "      <td>1093</td>\n",
              "      <td>758</td>\n",
              "      <td>92</td>\n",
              "      <td>304</td>\n",
              "      <td>2501.0</td>\n",
              "    </tr>\n",
              "    <tr>\n",
              "      <th>1</th>\n",
              "      <td>27564</td>\n",
              "      <td>0</td>\n",
              "      <td>0</td>\n",
              "      <td>82</td>\n",
              "      <td>506</td>\n",
              "      <td>2040</td>\n",
              "      <td>2490</td>\n",
              "      <td>827</td>\n",
              "      <td>2506</td>\n",
              "      <td>931.0</td>\n",
              "    </tr>\n",
              "    <tr>\n",
              "      <th>2</th>\n",
              "      <td>9003</td>\n",
              "      <td>0</td>\n",
              "      <td>96</td>\n",
              "      <td>404</td>\n",
              "      <td>652</td>\n",
              "      <td>644</td>\n",
              "      <td>522</td>\n",
              "      <td>77</td>\n",
              "      <td>254</td>\n",
              "      <td>2391.0</td>\n",
              "    </tr>\n",
              "    <tr>\n",
              "      <th>3</th>\n",
              "      <td>9606</td>\n",
              "      <td>114</td>\n",
              "      <td>178</td>\n",
              "      <td>393</td>\n",
              "      <td>517</td>\n",
              "      <td>945</td>\n",
              "      <td>584</td>\n",
              "      <td>137</td>\n",
              "      <td>286</td>\n",
              "      <td>3727.0</td>\n",
              "    </tr>\n",
              "    <tr>\n",
              "      <th>4</th>\n",
              "      <td>57222</td>\n",
              "      <td>0</td>\n",
              "      <td>0</td>\n",
              "      <td>1089</td>\n",
              "      <td>2821</td>\n",
              "      <td>5110</td>\n",
              "      <td>5422</td>\n",
              "      <td>1073</td>\n",
              "      <td>3261</td>\n",
              "      <td>1380.0</td>\n",
              "    </tr>\n",
              "  </tbody>\n",
              "</table>\n",
              "</div>"
            ],
            "text/plain": [
              "   população  domiciliosA1  domiciliosA2  ...  domiciliosD  domiciliosE  rendaMedia\n",
              "0      11676             0           145  ...           92          304      2501.0\n",
              "1      27564             0             0  ...          827         2506       931.0\n",
              "2       9003             0            96  ...           77          254      2391.0\n",
              "3       9606           114           178  ...          137          286      3727.0\n",
              "4      57222             0             0  ...         1073         3261      1380.0\n",
              "\n",
              "[5 rows x 10 columns]"
            ]
          },
          "metadata": {
            "tags": []
          },
          "execution_count": 171
        }
      ]
    },
    {
      "cell_type": "markdown",
      "metadata": {
        "id": "6gPUuIUOJb8K"
      },
      "source": [
        "#### Testando com validação cruzada"
      ]
    },
    {
      "cell_type": "markdown",
      "metadata": {
        "id": "MI5clpkeQYRC"
      },
      "source": [
        "Interpretação: Quanto mais próximo de 0, melhor os modelos serão.\n",
        "\n",
        "O modelo de teste usado para o cross validation será Mean Absolute Error (MAE)"
      ]
    },
    {
      "cell_type": "code",
      "metadata": {
        "colab": {
          "base_uri": "https://localhost:8080/"
        },
        "id": "8qH5tIxgFXLN",
        "outputId": "5add5418-dd06-4016-a725-86e6ba58ad11"
      },
      "source": [
        "# preparando 5 folds para validação cruzada com regressão linear\n",
        "\n",
        "linear1 = LinearRegression()\n",
        "linear2 = LinearRegression()\n",
        "\n",
        "mae_linear1 = cross_val_score(linear1, X, y, scoring=\"neg_mean_absolute_error\", cv=5)\n",
        "mae_linear2 = cross_val_score(linear2, X2, y, scoring=\"neg_mean_absolute_error\",cv=5)\n",
        "\n",
        "print(\"Média MAE Regressão Linear (sem features de idade): {}\".format(mae_linear1.mean()))\n",
        "print(\"Média MAE Regressão Linear (com features de idade): {}\".format(mae_linear2.mean()))"
      ],
      "execution_count": null,
      "outputs": [
        {
          "output_type": "stream",
          "text": [
            "Média MAE Regressão Linear (sem features de idade): -148635.65114839186\n",
            "Média MAE Regressão Linear (com features de idade): -109323.15687858881\n"
          ],
          "name": "stdout"
        }
      ]
    },
    {
      "cell_type": "code",
      "metadata": {
        "colab": {
          "base_uri": "https://localhost:8080/"
        },
        "id": "Mmau8I_UJnBM",
        "outputId": "9f0d953f-8d08-4e11-8544-e322a1e723bf"
      },
      "source": [
        "# preparando 5 folds para validação cruzada com árvore de decisão\n",
        "\n",
        "arvore1 = DecisionTreeRegressor()\n",
        "arvore2 = DecisionTreeRegressor()\n",
        "\n",
        "mae_arvore1 = cross_val_score(arvore1, X, y, scoring=\"neg_mean_absolute_error\", cv=5)\n",
        "mae_arvore2= cross_val_score(arvore2, X2, y, scoring=\"neg_mean_absolute_error\",cv=5)\n",
        "\n",
        "print(\"Média MAE Árvore de Decisão (sem features de idade): {}\".format(mae_arvore1.mean()))\n",
        "print(\"Média MAE Árvore de Decisão (com features de idade): {}\".format(mae_arvore2.mean()))"
      ],
      "execution_count": null,
      "outputs": [
        {
          "output_type": "stream",
          "text": [
            "Média MAE Árvore de Decisão (sem features de idade): -100852.50967741935\n",
            "Média MAE Árvore de Decisão (com features de idade): -97116.0630107527\n"
          ],
          "name": "stdout"
        }
      ]
    },
    {
      "cell_type": "code",
      "metadata": {
        "colab": {
          "base_uri": "https://localhost:8080/"
        },
        "id": "600pr4cnLDv6",
        "outputId": "e02c89ca-02af-4a6e-8801-ee7ff23ec633"
      },
      "source": [
        "#preparando 5 folds para validação cruzada com random forest\n",
        "\n",
        "floresta1 = RandomForestRegressor()\n",
        "floresta2 = RandomForestRegressor()\n",
        "\n",
        "mae_floresta1 = cross_val_score(floresta1, X, y, scoring=\"neg_mean_absolute_error\", cv=5)\n",
        "mae_floresta2= cross_val_score(floresta2, X2, y, scoring=\"neg_mean_absolute_error\",cv=5)\n",
        "\n",
        "print(\"Média MAE Random Forest (sem features de idade): {}\".format(mae_floresta1.mean()))\n",
        "print(\"Média MAE Random Forest (com features de idade): {}\".format(mae_floresta2.mean()))"
      ],
      "execution_count": null,
      "outputs": [
        {
          "output_type": "stream",
          "text": [
            "Média MAE Random Forest (sem features de idade): -74185.01669462366\n",
            "Média MAE Random Forest (com features de idade): -70907.44359354839\n"
          ],
          "name": "stdout"
        }
      ]
    },
    {
      "cell_type": "markdown",
      "metadata": {
        "id": "N8br3UsLLDfj"
      },
      "source": [
        "#### Conclusões Cross Validation"
      ]
    },
    {
      "cell_type": "markdown",
      "metadata": {
        "id": "-zZE3MEBUA9M"
      },
      "source": [
        "Com o Cross Validation foi possível obter a confirmação de conclusões feitas com o método holdout.\n",
        "\n",
        "\n",
        "*   Como no método holdout, os modelos treinados sem as features de idade tiveram melhores resultados.\n",
        "*   Como no método holdout, o modelo mais promissor foi o de Random Forest.\n",
        "\n",
        "\n",
        "\n"
      ]
    },
    {
      "cell_type": "markdown",
      "metadata": {
        "id": "3pCBmeZzVGrV"
      },
      "source": [
        "## Conclusões Gerais"
      ]
    },
    {
      "cell_type": "markdown",
      "metadata": {
        "id": "pRG4CNqRVJal"
      },
      "source": [
        "*   O melhor algoritmo de Machine Learning para previsão da feature faturamento é o Random Forest (para regressão).\n",
        "   *   Os resultados possuem variações que poderiam ser reduzidas com mais features significativas sobre os bairros.\n",
        "      *   Features que caracterizassem, por exemplo, os outliers que aparecem com certa frequência nos dados (rendaMEdia, faturamento, domicíliosA1, etc).\n",
        "   *  Se os outliers fossem removidos, os modelos teriam um resultado ainda melhor estatisticamente. Porém, isso seria apenas vizualmente, pois os modelos ainda não iriam prever eficientemente instâncias com outliers como os que foram mostrados.\n",
        "*   As features de idade da população podem piorar a previsão do faturanento com os algoritmos de Machine Learning testados.\n",
        "*   Apesar das observações citadas anteriormente, o algoritmo Random Forest, alimentado com os dados das features pessoas, domiciliosA1, domiciliosA2, domiciliosB1, domiciliosB2, domiciliosC1, domiciliosC2, domiciliosD, domiciliosE, rendaMedia e faturamento, poderia ser aplicado para a previsão do faturamento em novos bairros.\n",
        "\n",
        "\n"
      ]
    }
  ]
}